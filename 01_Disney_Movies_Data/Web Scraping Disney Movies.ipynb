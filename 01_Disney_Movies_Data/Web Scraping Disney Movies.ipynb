{
 "cells": [
  {
   "cell_type": "markdown",
   "id": "2ee0d6c6-3e2e-4cbb-9458-be4514416769",
   "metadata": {},
   "source": [
    "# Web scraping Disney movies collection data "
   ]
  },
  {
   "cell_type": "code",
   "execution_count": 409,
   "id": "d7838b0e-8879-466d-8947-c1ecfc361734",
   "metadata": {},
   "outputs": [],
   "source": [
    "import requests\n",
    "import pandas as pd\n",
    "from bs4 import BeautifulSoup as bs\n",
    "import re"
   ]
  },
  {
   "cell_type": "code",
   "execution_count": 341,
   "id": "73b71fb4-9672-4393-8c60-73b154e644a0",
   "metadata": {},
   "outputs": [],
   "source": [
    "#load the page\n",
    "r = requests.get(\"https://en.wikipedia.org/wiki/List_of_Walt_Disney_Pictures_films\")\n",
    "\n",
    "#convert to bs object\n",
    "soup = bs(r.content)\n"
   ]
  },
  {
   "cell_type": "code",
   "execution_count": 342,
   "id": "885a000e-627a-44d0-ab72-bcad97879a1b",
   "metadata": {},
   "outputs": [
    {
     "data": {
      "text/plain": [
       "[<h3><span id=\"1930s.E2.80.931940s\"></span><span class=\"mw-headline\" id=\"1930s–1940s\">1930s–1940s</span></h3>,\n",
       " <h3><span class=\"mw-headline\" id=\"1950s\">1950s</span></h3>,\n",
       " <h3><span class=\"mw-headline\" id=\"1960s\">1960s</span></h3>,\n",
       " <h3><span class=\"mw-headline\" id=\"1970s\">1970s</span></h3>,\n",
       " <h3><span class=\"mw-headline\" id=\"1980s\">1980s</span></h3>,\n",
       " <h3><span class=\"mw-headline\" id=\"1990s\">1990s</span></h3>,\n",
       " <h3><span class=\"mw-headline\" id=\"2000s\">2000s</span></h3>,\n",
       " <h3><span class=\"mw-headline\" id=\"2010s\">2010s</span></h3>,\n",
       " <h3><span class=\"mw-headline\" id=\"2020s\">2020s</span></h3>,\n",
       " <h3><span class=\"mw-headline\" id=\"Undated_films\">Undated films</span></h3>,\n",
       " <h3 class=\"vector-menu-heading\" id=\"p-personal-label\">\n",
       " <span class=\"vector-menu-heading-label\">Personal tools</span>\n",
       " </h3>,\n",
       " <h3 class=\"vector-menu-heading\" id=\"p-namespaces-label\">\n",
       " <span class=\"vector-menu-heading-label\">Namespaces</span>\n",
       " </h3>,\n",
       " <h3 class=\"vector-menu-heading\" id=\"p-views-label\">\n",
       " <span class=\"vector-menu-heading-label\">Views</span>\n",
       " </h3>,\n",
       " <h3>\n",
       " <label for=\"searchInput\">Search</label>\n",
       " </h3>,\n",
       " <h3 class=\"vector-menu-heading\" id=\"p-navigation-label\">\n",
       " <span class=\"vector-menu-heading-label\">Navigation</span>\n",
       " </h3>,\n",
       " <h3 class=\"vector-menu-heading\" id=\"p-interaction-label\">\n",
       " <span class=\"vector-menu-heading-label\">Contribute</span>\n",
       " </h3>,\n",
       " <h3 class=\"vector-menu-heading\" id=\"p-tb-label\">\n",
       " <span class=\"vector-menu-heading-label\">Tools</span>\n",
       " </h3>,\n",
       " <h3 class=\"vector-menu-heading\" id=\"p-coll-print_export-label\">\n",
       " <span class=\"vector-menu-heading-label\">Print/export</span>\n",
       " </h3>,\n",
       " <h3 class=\"vector-menu-heading\" id=\"p-wikibase-otherprojects-label\">\n",
       " <span class=\"vector-menu-heading-label\">In other projects</span>\n",
       " </h3>,\n",
       " <h3 class=\"vector-menu-heading\" id=\"p-lang-label\">\n",
       " <span class=\"vector-menu-heading-label\">Languages</span>\n",
       " </h3>]"
      ]
     },
     "execution_count": 342,
     "metadata": {},
     "output_type": "execute_result"
    }
   ],
   "source": [
    "#find all headings with size 3 to get the years in string\n",
    "soup.find_all(\"h3\")"
   ]
  },
  {
   "cell_type": "markdown",
   "id": "27e56011-eba2-419b-aefa-acf9967dee0f",
   "metadata": {},
   "source": [
    "We will get a value of None in the first header3 because we have two span elements inside this first header. So we need to manually replace the first value of the list above with the respective year, i.e., 1930s-1940s."
   ]
  },
  {
   "cell_type": "code",
   "execution_count": 343,
   "id": "71640f31-6e32-44dd-85fc-f35b35d8de1d",
   "metadata": {},
   "outputs": [
    {
     "name": "stdout",
     "output_type": "stream",
     "text": [
      "<h3><span id=\"1930s.E2.80.931940s\"></span><span class=\"mw-headline\" id=\"1930s–1940s\">1930s–1940s</span></h3>\n",
      "1950\n",
      "1960\n",
      "1970\n",
      "1980\n",
      "1990\n",
      "2000\n",
      "2010\n",
      "2020\n",
      "Undated film\n",
      "<h3 class=\"vector-menu-heading\" id=\"p-personal-label\">\n",
      "<span class=\"vector-menu-heading-label\">Personal tools</span>\n",
      "</h3>\n",
      "<h3 class=\"vector-menu-heading\" id=\"p-namespaces-label\">\n",
      "<span class=\"vector-menu-heading-label\">Namespaces</span>\n",
      "</h3>\n",
      "<h3 class=\"vector-menu-heading\" id=\"p-views-label\">\n",
      "<span class=\"vector-menu-heading-label\">Views</span>\n",
      "</h3>\n",
      "<h3>\n",
      "<label for=\"searchInput\">Search</label>\n",
      "</h3>\n",
      "<h3 class=\"vector-menu-heading\" id=\"p-navigation-label\">\n",
      "<span class=\"vector-menu-heading-label\">Navigation</span>\n",
      "</h3>\n",
      "<h3 class=\"vector-menu-heading\" id=\"p-interaction-label\">\n",
      "<span class=\"vector-menu-heading-label\">Contribute</span>\n",
      "</h3>\n",
      "<h3 class=\"vector-menu-heading\" id=\"p-tb-label\">\n",
      "<span class=\"vector-menu-heading-label\">Tools</span>\n",
      "</h3>\n",
      "<h3 class=\"vector-menu-heading\" id=\"p-coll-print_export-label\">\n",
      "<span class=\"vector-menu-heading-label\">Print/export</span>\n",
      "</h3>\n",
      "<h3 class=\"vector-menu-heading\" id=\"p-wikibase-otherprojects-label\">\n",
      "<span class=\"vector-menu-heading-label\">In other projects</span>\n",
      "</h3>\n",
      "<h3 class=\"vector-menu-heading\" id=\"p-lang-label\">\n",
      "<span class=\"vector-menu-heading-label\">Languages</span>\n",
      "</h3>\n"
     ]
    }
   ],
   "source": [
    "#collecting the number of years first\n",
    "#create an emtpy list of years\n",
    "years_list = []\n",
    "for years in soup.find_all(\"h3\"):\n",
    "    \n",
    "    if years.string is not None:\n",
    "        years = years.string.replace('s','')\n",
    "        years_list.append(years)\n",
    "    \n",
    "    print(years)"
   ]
  },
  {
   "cell_type": "code",
   "execution_count": 344,
   "id": "6fc64a65-c1c4-4243-8c66-dc6ea47ebb91",
   "metadata": {},
   "outputs": [
    {
     "data": {
      "text/plain": [
       "['1950',\n",
       " '1960',\n",
       " '1970',\n",
       " '1980',\n",
       " '1990',\n",
       " '2000',\n",
       " '2010',\n",
       " '2020',\n",
       " 'Undated film']"
      ]
     },
     "execution_count": 344,
     "metadata": {},
     "output_type": "execute_result"
    }
   ],
   "source": [
    "#printing the list\n",
    "years_list"
   ]
  },
  {
   "cell_type": "code",
   "execution_count": 345,
   "id": "872352cb-d643-4177-a5fe-2596996d96d5",
   "metadata": {},
   "outputs": [],
   "source": [
    "#insert the years 1930s-1940s as a first index value\n",
    "years_list.insert(0,'1930-1940')\n",
    "years_list.insert(9,'Upcoming')"
   ]
  },
  {
   "cell_type": "code",
   "execution_count": 346,
   "id": "8855a668-72d1-4dc8-a04f-36cf58fefd98",
   "metadata": {},
   "outputs": [
    {
     "data": {
      "text/plain": [
       "['1930-1940',\n",
       " '1950',\n",
       " '1960',\n",
       " '1970',\n",
       " '1980',\n",
       " '1990',\n",
       " '2000',\n",
       " '2010',\n",
       " '2020',\n",
       " 'Upcoming',\n",
       " 'Undated film']"
      ]
     },
     "execution_count": 346,
     "metadata": {},
     "output_type": "execute_result"
    }
   ],
   "source": [
    "#printing the years list\n",
    "years_list"
   ]
  },
  {
   "cell_type": "code",
   "execution_count": 347,
   "id": "4d232971-5b1a-4dd3-8032-d354bf712f34",
   "metadata": {},
   "outputs": [],
   "source": [
    "for tag in soup.find_all(\"href\"):\n",
    "    print(tag)"
   ]
  },
  {
   "cell_type": "markdown",
   "id": "f3b55845-c1af-4255-8a6f-249b34934fa0",
   "metadata": {},
   "source": [
    "Now upon inspecting the table we want to extract, we have links for each of the movie title and that will provide us with more information about each movie. We need to loop through each of these movie title and get the link and access the page for that movie."
   ]
  },
  {
   "cell_type": "code",
   "execution_count": 348,
   "id": "6d8bba6e-2ca9-4b7d-bdf9-76830d4adf69",
   "metadata": {},
   "outputs": [],
   "source": [
    "#create empty list of links to movie title\n",
    "data = {} \n",
    "\n",
    "init = 0\n",
    "#loop through the table tags\n",
    "for table in soup.find_all(\"table\"):\n",
    "    movies =[]\n",
    "    #loop through each table to get all the links\n",
    "    for link in table.find_all(\"a\"):\n",
    "        \n",
    "        #try and except to ignore the errors in title extraction\n",
    "        try:\n",
    "            #get the link of movie title\n",
    "            title_page = 'https://en.wikipedia.org' + link['href']\n",
    "            #add it to the list of movies\n",
    "            movies.append(title_page)\n",
    "        except:\n",
    "            pass\n",
    "     \n",
    "    \n",
    "    try:\n",
    "        data[years_list[init]] = movies\n",
    "        init = init +1\n",
    "    except:\n",
    "        pass\n",
    "\n",
    "    "
   ]
  },
  {
   "cell_type": "code",
   "execution_count": 352,
   "id": "e1219eae-bc15-4cbe-b55a-c1d0cab61444",
   "metadata": {},
   "outputs": [
    {
     "data": {
      "text/plain": [
       "['https://en.wikipedia.org/wiki/Pinocchio_(2022_live-action_film)',\n",
       " 'https://en.wikipedia.org#cite_note-25',\n",
       " 'https://en.wikipedia.org/wiki/ImageMovers',\n",
       " 'https://en.wikipedia.org/wiki/Chris_Weitz',\n",
       " 'https://en.wikipedia.org/wiki/Disney%2B',\n",
       " 'https://en.wikipedia.org#cite_note-Pinocchio2022_EW-26',\n",
       " 'https://en.wikipedia.org#cite_note-27',\n",
       " 'https://en.wikipedia.org/wiki/Hocus_Pocus_2',\n",
       " 'https://en.wikipedia.org#cite_note-28',\n",
       " 'https://en.wikipedia.org/wiki/David_Kirschner',\n",
       " 'https://en.wikipedia.org/wiki/Disney%2B',\n",
       " 'https://en.wikipedia.org/wiki/Strange_World_(film)',\n",
       " 'https://en.wikipedia.org#cite_note-DisneyFox_Release_Date-29',\n",
       " 'https://en.wikipedia.org/wiki/Walt_Disney_Animation_Studios',\n",
       " 'https://en.wikipedia.org#cite_note-30',\n",
       " 'https://en.wikipedia.org/wiki/Disenchanted_(film)',\n",
       " 'https://en.wikipedia.org#cite_note-Disenchanted_CS-31',\n",
       " 'https://en.wikipedia.org#cite_note-32',\n",
       " 'https://en.wikipedia.org/wiki/Barry_Sonnenfield',\n",
       " 'https://en.wikipedia.org/wiki/Barry_Josephson',\n",
       " 'https://en.wikipedia.org/wiki/Disney%2B',\n",
       " 'https://en.wikipedia.org/wiki/Haunted_Mansion_(2023_film)',\n",
       " 'https://en.wikipedia.org#cite_note-33',\n",
       " 'https://en.wikipedia.org/wiki/Rideback_(production_company)',\n",
       " 'https://en.wikipedia.org#cite_note-34',\n",
       " 'https://en.wikipedia.org/wiki/The_Little_Mermaid_(2023_film)',\n",
       " 'https://en.wikipedia.org#cite_note-Disney_Release_Dates_Sep10-35',\n",
       " 'https://en.wikipedia.org/wiki/Marc_Platt_(producer)',\n",
       " 'https://en.wikipedia.org/wiki/Lin-Manuel_Miranda',\n",
       " 'https://en.wikipedia.org#cite_note-Filming_resumes-36',\n",
       " 'https://en.wikipedia.org/wiki/Elemental_(2023_film)',\n",
       " 'https://en.wikipedia.org#cite_note-Pixar_Unveils_Concept_Art_&_Dates_27th_Film_‘Elemental’_For_Summer_2023-37',\n",
       " 'https://en.wikipedia.org/wiki/Pixar_Animation_Studios',\n",
       " 'https://en.wikipedia.org#cite_note-ReleaseScheduleasofApril19,2022-38',\n",
       " 'https://en.wikipedia.org#cite_note-Disney_Release_Dates_Nov19-39',\n",
       " 'https://en.wikipedia.org#cite_note-40',\n",
       " 'https://en.wikipedia.org/wiki/Walt_Disney_Animation_Studios',\n",
       " 'https://en.wikipedia.org#cite_note-ReleaseScheduleasofApril19,2022-38',\n",
       " 'https://en.wikipedia.org/wiki/Pixar_Animation_Studios',\n",
       " 'https://en.wikipedia.org#cite_note-Disney_Release_Dates_Sep10-35',\n",
       " 'https://en.wikipedia.org#cite_note-ReleaseScheduleasofApril19,2022-38',\n",
       " 'https://en.wikipedia.org#cite_note-ReleaseScheduleasofApril19,2022-38',\n",
       " 'https://en.wikipedia.org/wiki/Pixar_Animation_Studios',\n",
       " 'https://en.wikipedia.org#cite_note-Disney_Release_Dates_Sep10-35',\n",
       " 'https://en.wikipedia.org#cite_note-ReleaseScheduleasofApril19,2022-38']"
      ]
     },
     "execution_count": 352,
     "metadata": {},
     "output_type": "execute_result"
    }
   ],
   "source": [
    "#we can check the data for upcoming films \n",
    "data['Upcoming']"
   ]
  },
  {
   "cell_type": "code",
   "execution_count": 362,
   "id": "77ff55ea-78f9-4bed-80ab-5b9511215e3a",
   "metadata": {},
   "outputs": [
    {
     "ename": "IndentationError",
     "evalue": "expected an indented block (3158477037.py, line 9)",
     "output_type": "error",
     "traceback": [
      "\u001b[1;36m  Input \u001b[1;32mIn [362]\u001b[1;36m\u001b[0m\n\u001b[1;33m    \u001b[0m\n\u001b[1;37m    ^\u001b[0m\n\u001b[1;31mIndentationError\u001b[0m\u001b[1;31m:\u001b[0m expected an indented block\n"
     ]
    }
   ],
   "source": [
    "#Create a loop that can go through each of the movie page and collect the relevant data\n",
    "\n",
    "for link in data.values():\n",
    "    for items in link:\n",
    "        page = requests.get(items)\n",
    "        page_data = bs(page.content)\n",
    "        \n",
    "        for table in page_data.find_all(\"tr\"):\n",
    "            "
   ]
  },
  {
   "cell_type": "code",
   "execution_count": 421,
   "id": "cd4aab32-d6ef-4587-be07-87c8047d9aff",
   "metadata": {},
   "outputs": [],
   "source": [
    "page = requests.get(\"https://en.m.wikipedia.org/wiki/Turning_Red\")"
   ]
  },
  {
   "cell_type": "code",
   "execution_count": 433,
   "id": "e0ea4121-87e6-431a-a46d-e41064d5c19b",
   "metadata": {},
   "outputs": [],
   "source": [
    "df_movie= pd.read_html(page.content)"
   ]
  },
  {
   "cell_type": "code",
   "execution_count": 446,
   "id": "2a870cd7-ef76-4e27-94ef-569f8801b9ea",
   "metadata": {},
   "outputs": [],
   "source": [
    "df1=pd.DataFrame([data])"
   ]
  },
  {
   "cell_type": "code",
   "execution_count": 447,
   "id": "66682091-2724-4ff0-ac32-3ada98b8dcf8",
   "metadata": {},
   "outputs": [
    {
     "data": {
      "text/html": [
       "<div>\n",
       "<style scoped>\n",
       "    .dataframe tbody tr th:only-of-type {\n",
       "        vertical-align: middle;\n",
       "    }\n",
       "\n",
       "    .dataframe tbody tr th {\n",
       "        vertical-align: top;\n",
       "    }\n",
       "\n",
       "    .dataframe thead th {\n",
       "        text-align: right;\n",
       "    }\n",
       "</style>\n",
       "<table border=\"1\" class=\"dataframe\">\n",
       "  <thead>\n",
       "    <tr style=\"text-align: right;\">\n",
       "      <th></th>\n",
       "      <th>1930-1940</th>\n",
       "      <th>1950</th>\n",
       "      <th>1960</th>\n",
       "      <th>1970</th>\n",
       "      <th>1980</th>\n",
       "      <th>1990</th>\n",
       "      <th>2000</th>\n",
       "      <th>2010</th>\n",
       "      <th>2020</th>\n",
       "      <th>Upcoming</th>\n",
       "      <th>Undated film</th>\n",
       "    </tr>\n",
       "  </thead>\n",
       "  <tbody>\n",
       "    <tr>\n",
       "      <th>0</th>\n",
       "      <td>[https://en.wikipedia.org/wiki/Academy_Award_R...</td>\n",
       "      <td>[https://en.wikipedia.org/wiki/Cinderella_(195...</td>\n",
       "      <td>[https://en.wikipedia.org/wiki/Toby_Tyler_or_1...</td>\n",
       "      <td>[https://en.wikipedia.org/wiki/King_of_the_Gri...</td>\n",
       "      <td>[https://en.wikipedia.org/wiki/Midnight_Madnes...</td>\n",
       "      <td>[https://en.wikipedia.org/wiki/DuckTales_the_M...</td>\n",
       "      <td>[https://en.wikipedia.org/wiki/The_Tigger_Movi...</td>\n",
       "      <td>[https://en.wikipedia.org/wiki/Alice_in_Wonder...</td>\n",
       "      <td>[https://en.wikipedia.org/wiki/Timmy_Failure:_...</td>\n",
       "      <td>[https://en.wikipedia.org/wiki/Pinocchio_(2022...</td>\n",
       "      <td>[https://en.wikipedia.org/wiki/Diary_of_a_Wimp...</td>\n",
       "    </tr>\n",
       "  </tbody>\n",
       "</table>\n",
       "</div>"
      ],
      "text/plain": [
       "                                           1930-1940  \\\n",
       "0  [https://en.wikipedia.org/wiki/Academy_Award_R...   \n",
       "\n",
       "                                                1950  \\\n",
       "0  [https://en.wikipedia.org/wiki/Cinderella_(195...   \n",
       "\n",
       "                                                1960  \\\n",
       "0  [https://en.wikipedia.org/wiki/Toby_Tyler_or_1...   \n",
       "\n",
       "                                                1970  \\\n",
       "0  [https://en.wikipedia.org/wiki/King_of_the_Gri...   \n",
       "\n",
       "                                                1980  \\\n",
       "0  [https://en.wikipedia.org/wiki/Midnight_Madnes...   \n",
       "\n",
       "                                                1990  \\\n",
       "0  [https://en.wikipedia.org/wiki/DuckTales_the_M...   \n",
       "\n",
       "                                                2000  \\\n",
       "0  [https://en.wikipedia.org/wiki/The_Tigger_Movi...   \n",
       "\n",
       "                                                2010  \\\n",
       "0  [https://en.wikipedia.org/wiki/Alice_in_Wonder...   \n",
       "\n",
       "                                                2020  \\\n",
       "0  [https://en.wikipedia.org/wiki/Timmy_Failure:_...   \n",
       "\n",
       "                                            Upcoming  \\\n",
       "0  [https://en.wikipedia.org/wiki/Pinocchio_(2022...   \n",
       "\n",
       "                                        Undated film  \n",
       "0  [https://en.wikipedia.org/wiki/Diary_of_a_Wimp...  "
      ]
     },
     "execution_count": 447,
     "metadata": {},
     "output_type": "execute_result"
    }
   ],
   "source": [
    "df1"
   ]
  },
  {
   "cell_type": "code",
   "execution_count": null,
   "id": "9fe808e6-a910-4295-a1c9-eadd7d8070fc",
   "metadata": {},
   "outputs": [],
   "source": []
  }
 ],
 "metadata": {
  "kernelspec": {
   "display_name": "Python 3 (ipykernel)",
   "language": "python",
   "name": "python3"
  },
  "language_info": {
   "codemirror_mode": {
    "name": "ipython",
    "version": 3
   },
   "file_extension": ".py",
   "mimetype": "text/x-python",
   "name": "python",
   "nbconvert_exporter": "python",
   "pygments_lexer": "ipython3",
   "version": "3.9.7"
  }
 },
 "nbformat": 4,
 "nbformat_minor": 5
}
