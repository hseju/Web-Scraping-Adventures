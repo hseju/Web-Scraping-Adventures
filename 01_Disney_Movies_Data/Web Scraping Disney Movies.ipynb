{
 "cells": [
  {
   "cell_type": "markdown",
   "id": "2ee0d6c6-3e2e-4cbb-9458-be4514416769",
   "metadata": {},
   "source": [
    "# Web scraping Disney movies collection data "
   ]
  },
  {
   "cell_type": "code",
   "execution_count": 360,
   "id": "d7838b0e-8879-466d-8947-c1ecfc361734",
   "metadata": {},
   "outputs": [],
   "source": [
    "import requests\n",
    "import pandas as pd\n",
    "import numpy as np\n",
    "from bs4 import BeautifulSoup as bs\n",
    "import re"
   ]
  },
  {
   "cell_type": "code",
   "execution_count": 361,
   "id": "73b71fb4-9672-4393-8c60-73b154e644a0",
   "metadata": {},
   "outputs": [],
   "source": [
    "#load the page\n",
    "r = requests.get(\"https://en.wikipedia.org/wiki/List_of_Walt_Disney_Pictures_films\")\n",
    "\n",
    "#convert to bs object\n",
    "soup = bs(r.content)\n"
   ]
  },
  {
   "cell_type": "code",
   "execution_count": 362,
   "id": "885a000e-627a-44d0-ab72-bcad97879a1b",
   "metadata": {},
   "outputs": [
    {
     "data": {
      "text/plain": [
       "[<h3><span id=\"1930s.E2.80.931940s\"></span><span class=\"mw-headline\" id=\"1930s–1940s\">1930s–1940s</span></h3>,\n",
       " <h3><span class=\"mw-headline\" id=\"1950s\">1950s</span></h3>,\n",
       " <h3><span class=\"mw-headline\" id=\"1960s\">1960s</span></h3>,\n",
       " <h3><span class=\"mw-headline\" id=\"1970s\">1970s</span></h3>,\n",
       " <h3><span class=\"mw-headline\" id=\"1980s\">1980s</span></h3>,\n",
       " <h3><span class=\"mw-headline\" id=\"1990s\">1990s</span></h3>,\n",
       " <h3><span class=\"mw-headline\" id=\"2000s\">2000s</span></h3>,\n",
       " <h3><span class=\"mw-headline\" id=\"2010s\">2010s</span></h3>,\n",
       " <h3><span class=\"mw-headline\" id=\"2020s\">2020s</span></h3>,\n",
       " <h3><span class=\"mw-headline\" id=\"Undated_films\">Undated films</span></h3>,\n",
       " <h3 class=\"vector-menu-heading\" id=\"p-personal-label\">\n",
       " <span class=\"vector-menu-heading-label\">Personal tools</span>\n",
       " </h3>,\n",
       " <h3 class=\"vector-menu-heading\" id=\"p-namespaces-label\">\n",
       " <span class=\"vector-menu-heading-label\">Namespaces</span>\n",
       " </h3>,\n",
       " <h3 class=\"vector-menu-heading\" id=\"p-views-label\">\n",
       " <span class=\"vector-menu-heading-label\">Views</span>\n",
       " </h3>,\n",
       " <h3>\n",
       " <label for=\"searchInput\">Search</label>\n",
       " </h3>,\n",
       " <h3 class=\"vector-menu-heading\" id=\"p-navigation-label\">\n",
       " <span class=\"vector-menu-heading-label\">Navigation</span>\n",
       " </h3>,\n",
       " <h3 class=\"vector-menu-heading\" id=\"p-interaction-label\">\n",
       " <span class=\"vector-menu-heading-label\">Contribute</span>\n",
       " </h3>,\n",
       " <h3 class=\"vector-menu-heading\" id=\"p-tb-label\">\n",
       " <span class=\"vector-menu-heading-label\">Tools</span>\n",
       " </h3>,\n",
       " <h3 class=\"vector-menu-heading\" id=\"p-coll-print_export-label\">\n",
       " <span class=\"vector-menu-heading-label\">Print/export</span>\n",
       " </h3>,\n",
       " <h3 class=\"vector-menu-heading\" id=\"p-wikibase-otherprojects-label\">\n",
       " <span class=\"vector-menu-heading-label\">In other projects</span>\n",
       " </h3>,\n",
       " <h3 class=\"vector-menu-heading\" id=\"p-lang-label\">\n",
       " <span class=\"vector-menu-heading-label\">Languages</span>\n",
       " </h3>]"
      ]
     },
     "execution_count": 362,
     "metadata": {},
     "output_type": "execute_result"
    }
   ],
   "source": [
    "#find all headings with size 3 to get the years in string\n",
    "soup.find_all(\"h3\")"
   ]
  },
  {
   "cell_type": "markdown",
   "id": "27e56011-eba2-419b-aefa-acf9967dee0f",
   "metadata": {},
   "source": [
    "We will get a value of None in the first header3 because we have two span elements inside this first header. So we need to manually replace the first value of the list above with the respective year, i.e., 1930s-1940s."
   ]
  },
  {
   "cell_type": "code",
   "execution_count": 363,
   "id": "71640f31-6e32-44dd-85fc-f35b35d8de1d",
   "metadata": {},
   "outputs": [
    {
     "name": "stdout",
     "output_type": "stream",
     "text": [
      "<h3><span id=\"1930s.E2.80.931940s\"></span><span class=\"mw-headline\" id=\"1930s–1940s\">1930s–1940s</span></h3>\n",
      "1950\n",
      "1960\n",
      "1970\n",
      "1980\n",
      "1990\n",
      "2000\n",
      "2010\n",
      "2020\n",
      "Undated film\n",
      "<h3 class=\"vector-menu-heading\" id=\"p-personal-label\">\n",
      "<span class=\"vector-menu-heading-label\">Personal tools</span>\n",
      "</h3>\n",
      "<h3 class=\"vector-menu-heading\" id=\"p-namespaces-label\">\n",
      "<span class=\"vector-menu-heading-label\">Namespaces</span>\n",
      "</h3>\n",
      "<h3 class=\"vector-menu-heading\" id=\"p-views-label\">\n",
      "<span class=\"vector-menu-heading-label\">Views</span>\n",
      "</h3>\n",
      "<h3>\n",
      "<label for=\"searchInput\">Search</label>\n",
      "</h3>\n",
      "<h3 class=\"vector-menu-heading\" id=\"p-navigation-label\">\n",
      "<span class=\"vector-menu-heading-label\">Navigation</span>\n",
      "</h3>\n",
      "<h3 class=\"vector-menu-heading\" id=\"p-interaction-label\">\n",
      "<span class=\"vector-menu-heading-label\">Contribute</span>\n",
      "</h3>\n",
      "<h3 class=\"vector-menu-heading\" id=\"p-tb-label\">\n",
      "<span class=\"vector-menu-heading-label\">Tools</span>\n",
      "</h3>\n",
      "<h3 class=\"vector-menu-heading\" id=\"p-coll-print_export-label\">\n",
      "<span class=\"vector-menu-heading-label\">Print/export</span>\n",
      "</h3>\n",
      "<h3 class=\"vector-menu-heading\" id=\"p-wikibase-otherprojects-label\">\n",
      "<span class=\"vector-menu-heading-label\">In other projects</span>\n",
      "</h3>\n",
      "<h3 class=\"vector-menu-heading\" id=\"p-lang-label\">\n",
      "<span class=\"vector-menu-heading-label\">Languages</span>\n",
      "</h3>\n"
     ]
    }
   ],
   "source": [
    "#collecting the number of years first\n",
    "#create an emtpy list of years\n",
    "years_list = []\n",
    "for years in soup.find_all(\"h3\"):\n",
    "    \n",
    "    if years.string is not None:\n",
    "        years = years.string.replace('s','')\n",
    "        years_list.append(years)\n",
    "    \n",
    "    print(years)"
   ]
  },
  {
   "cell_type": "code",
   "execution_count": 364,
   "id": "6fc64a65-c1c4-4243-8c66-dc6ea47ebb91",
   "metadata": {},
   "outputs": [
    {
     "data": {
      "text/plain": [
       "['1950',\n",
       " '1960',\n",
       " '1970',\n",
       " '1980',\n",
       " '1990',\n",
       " '2000',\n",
       " '2010',\n",
       " '2020',\n",
       " 'Undated film']"
      ]
     },
     "execution_count": 364,
     "metadata": {},
     "output_type": "execute_result"
    }
   ],
   "source": [
    "#printing the list\n",
    "years_list"
   ]
  },
  {
   "cell_type": "code",
   "execution_count": 365,
   "id": "872352cb-d643-4177-a5fe-2596996d96d5",
   "metadata": {},
   "outputs": [],
   "source": [
    "#insert the years 1930s-1940s as a first index value\n",
    "years_list.insert(0,'1930-1940')\n",
    "years_list.insert(9,'Upcoming')"
   ]
  },
  {
   "cell_type": "code",
   "execution_count": 366,
   "id": "8855a668-72d1-4dc8-a04f-36cf58fefd98",
   "metadata": {},
   "outputs": [
    {
     "data": {
      "text/plain": [
       "['1930-1940',\n",
       " '1950',\n",
       " '1960',\n",
       " '1970',\n",
       " '1980',\n",
       " '1990',\n",
       " '2000',\n",
       " '2010',\n",
       " '2020',\n",
       " 'Upcoming',\n",
       " 'Undated film']"
      ]
     },
     "execution_count": 366,
     "metadata": {},
     "output_type": "execute_result"
    }
   ],
   "source": [
    "#printing the years list\n",
    "years_list"
   ]
  },
  {
   "cell_type": "code",
   "execution_count": 367,
   "id": "4d232971-5b1a-4dd3-8032-d354bf712f34",
   "metadata": {},
   "outputs": [],
   "source": [
    "for tag in soup.find_all(\"href\"):\n",
    "    print(tag)"
   ]
  },
  {
   "cell_type": "markdown",
   "id": "f3b55845-c1af-4255-8a6f-249b34934fa0",
   "metadata": {},
   "source": [
    "Now upon inspecting the table we want to extract, we have links for each of the movie title and that will provide us with more information about each movie. We need to loop through each of these movie title and get the link and access the page for that movie."
   ]
  },
  {
   "cell_type": "code",
   "execution_count": 368,
   "id": "6d8bba6e-2ca9-4b7d-bdf9-76830d4adf69",
   "metadata": {},
   "outputs": [],
   "source": [
    "#create empty list of links to movie title\n",
    "data = {} \n",
    "\n",
    "init = 0\n",
    "#loop through the table tags\n",
    "for table in soup.find_all(\"table\"):\n",
    "    movies =[]\n",
    "    #loop through each table to get all the links\n",
    "    for link in table.find_all(\"a\"):\n",
    "        \n",
    "        #try and except to ignore the errors in title extraction\n",
    "        try:\n",
    "            #get the link of movie title\n",
    "            title_page = 'https://en.wikipedia.org' + link['href']\n",
    "            #add it to the list of movies\n",
    "            movies.append(title_page)\n",
    "        except:\n",
    "            pass\n",
    "     \n",
    "    \n",
    "    try:\n",
    "        data[years_list[init]] = movies\n",
    "        init = init +1\n",
    "    except:\n",
    "        pass\n",
    "\n",
    "    "
   ]
  },
  {
   "cell_type": "code",
   "execution_count": 369,
   "id": "e1219eae-bc15-4cbe-b55a-c1d0cab61444",
   "metadata": {},
   "outputs": [
    {
     "data": {
      "text/plain": [
       "['https://en.wikipedia.org/wiki/Pinocchio_(2022_live-action_film)',\n",
       " 'https://en.wikipedia.org#cite_note-25',\n",
       " 'https://en.wikipedia.org/wiki/ImageMovers',\n",
       " 'https://en.wikipedia.org/wiki/Chris_Weitz',\n",
       " 'https://en.wikipedia.org/wiki/Disney%2B',\n",
       " 'https://en.wikipedia.org#cite_note-Pinocchio2022_EW-26',\n",
       " 'https://en.wikipedia.org#cite_note-27',\n",
       " 'https://en.wikipedia.org/wiki/Hocus_Pocus_2',\n",
       " 'https://en.wikipedia.org#cite_note-28',\n",
       " 'https://en.wikipedia.org/wiki/David_Kirschner',\n",
       " 'https://en.wikipedia.org/wiki/Disney%2B',\n",
       " 'https://en.wikipedia.org/wiki/Strange_World_(film)',\n",
       " 'https://en.wikipedia.org#cite_note-DisneyFox_Release_Date-29',\n",
       " 'https://en.wikipedia.org/wiki/Walt_Disney_Animation_Studios',\n",
       " 'https://en.wikipedia.org#cite_note-30',\n",
       " 'https://en.wikipedia.org/wiki/Disenchanted_(film)',\n",
       " 'https://en.wikipedia.org#cite_note-Disenchanted_CS-31',\n",
       " 'https://en.wikipedia.org#cite_note-32',\n",
       " 'https://en.wikipedia.org/wiki/Barry_Sonnenfield',\n",
       " 'https://en.wikipedia.org/wiki/Barry_Josephson',\n",
       " 'https://en.wikipedia.org/wiki/Disney%2B',\n",
       " 'https://en.wikipedia.org/wiki/Haunted_Mansion_(2023_film)',\n",
       " 'https://en.wikipedia.org#cite_note-33',\n",
       " 'https://en.wikipedia.org/wiki/Rideback_(production_company)',\n",
       " 'https://en.wikipedia.org#cite_note-34',\n",
       " 'https://en.wikipedia.org/wiki/The_Little_Mermaid_(2023_film)',\n",
       " 'https://en.wikipedia.org#cite_note-Disney_Release_Dates_Sep10-35',\n",
       " 'https://en.wikipedia.org/wiki/Marc_Platt_(producer)',\n",
       " 'https://en.wikipedia.org/wiki/Lin-Manuel_Miranda',\n",
       " 'https://en.wikipedia.org#cite_note-Filming_resumes-36',\n",
       " 'https://en.wikipedia.org/wiki/Elemental_(2023_film)',\n",
       " 'https://en.wikipedia.org#cite_note-Pixar_Unveils_Concept_Art_&_Dates_27th_Film_‘Elemental’_For_Summer_2023-37',\n",
       " 'https://en.wikipedia.org/wiki/Pixar_Animation_Studios',\n",
       " 'https://en.wikipedia.org#cite_note-ReleaseScheduleasofApril19,2022-38',\n",
       " 'https://en.wikipedia.org#cite_note-Disney_Release_Dates_Nov19-39',\n",
       " 'https://en.wikipedia.org#cite_note-40',\n",
       " 'https://en.wikipedia.org/wiki/Walt_Disney_Animation_Studios',\n",
       " 'https://en.wikipedia.org#cite_note-ReleaseScheduleasofApril19,2022-38',\n",
       " 'https://en.wikipedia.org/wiki/Pixar_Animation_Studios',\n",
       " 'https://en.wikipedia.org#cite_note-Disney_Release_Dates_Sep10-35',\n",
       " 'https://en.wikipedia.org#cite_note-ReleaseScheduleasofApril19,2022-38',\n",
       " 'https://en.wikipedia.org#cite_note-ReleaseScheduleasofApril19,2022-38',\n",
       " 'https://en.wikipedia.org/wiki/Pixar_Animation_Studios',\n",
       " 'https://en.wikipedia.org#cite_note-Disney_Release_Dates_Sep10-35',\n",
       " 'https://en.wikipedia.org#cite_note-ReleaseScheduleasofApril19,2022-38']"
      ]
     },
     "execution_count": 369,
     "metadata": {},
     "output_type": "execute_result"
    }
   ],
   "source": [
    "#we can check the data for upcoming films \n",
    "data['Upcoming']"
   ]
  },
  {
   "cell_type": "markdown",
   "id": "a08e8e82-8493-4d98-a270-3643cee47ad8",
   "metadata": {},
   "source": [
    "## Using Pandas library to get the table\n",
    "\n"
   ]
  },
  {
   "cell_type": "code",
   "execution_count": 370,
   "id": "cd4aab32-d6ef-4587-be07-87c8047d9aff",
   "metadata": {},
   "outputs": [],
   "source": [
    "page = requests.get(\"https://en.m.wikipedia.org/wiki/Turning_Red\")"
   ]
  },
  {
   "cell_type": "code",
   "execution_count": 371,
   "id": "e0ea4121-87e6-431a-a46d-e41064d5c19b",
   "metadata": {},
   "outputs": [],
   "source": [
    "df_movie= pd.read_html(page.content)[0]"
   ]
  },
  {
   "cell_type": "code",
   "execution_count": 372,
   "id": "2a870cd7-ef76-4e27-94ef-569f8801b9ea",
   "metadata": {},
   "outputs": [
    {
     "data": {
      "text/html": [
       "<div>\n",
       "<style scoped>\n",
       "    .dataframe tbody tr th:only-of-type {\n",
       "        vertical-align: middle;\n",
       "    }\n",
       "\n",
       "    .dataframe tbody tr th {\n",
       "        vertical-align: top;\n",
       "    }\n",
       "\n",
       "    .dataframe thead th {\n",
       "        text-align: right;\n",
       "    }\n",
       "</style>\n",
       "<table border=\"1\" class=\"dataframe\">\n",
       "  <thead>\n",
       "    <tr style=\"text-align: right;\">\n",
       "      <th>Turning Red</th>\n",
       "      <th>Official promotional poster</th>\n",
       "      <th>Directed by</th>\n",
       "      <th>Screenplay by</th>\n",
       "      <th>Story by</th>\n",
       "      <th>Produced by</th>\n",
       "      <th>Starring</th>\n",
       "      <th>Cinematography</th>\n",
       "      <th>Edited by</th>\n",
       "      <th>Music by</th>\n",
       "      <th>Productioncompanies</th>\n",
       "      <th>Distributed by</th>\n",
       "      <th>Release dates</th>\n",
       "      <th>Running time</th>\n",
       "      <th>Country</th>\n",
       "      <th>Language</th>\n",
       "      <th>Budget</th>\n",
       "      <th>Box office</th>\n",
       "    </tr>\n",
       "  </thead>\n",
       "  <tbody>\n",
       "    <tr>\n",
       "      <th>Turning Red.1</th>\n",
       "      <td>Official promotional poster</td>\n",
       "      <td>Domee Shi</td>\n",
       "      <td>Julia Cho Domee Shi</td>\n",
       "      <td>Domee Shi Julia Cho Sarah Streicher</td>\n",
       "      <td>Lindsey Collins</td>\n",
       "      <td>Rosalie Chiang Sandra Oh Ava Morse Hyein Park ...</td>\n",
       "      <td>Mahyar Abousaeedi Jonathan Pytko</td>\n",
       "      <td>Nicholas C. Smith Steve Bloom</td>\n",
       "      <td>Ludwig Göransson</td>\n",
       "      <td>Walt Disney Pictures Pixar Animation Studios</td>\n",
       "      <td>Walt Disney StudiosMotion Pictures</td>\n",
       "      <td>March 1, 2022El Capitan Theatre) March 11, 2022</td>\n",
       "      <td>100 minutes[1]</td>\n",
       "      <td>United States</td>\n",
       "      <td>English</td>\n",
       "      <td>$175 million[2]</td>\n",
       "      <td>$19.9 million[3]</td>\n",
       "    </tr>\n",
       "  </tbody>\n",
       "</table>\n",
       "</div>"
      ],
      "text/plain": [
       "Turning Red    Official promotional poster Directed by        Screenplay by  \\\n",
       "Turning Red.1  Official promotional poster   Domee Shi  Julia Cho Domee Shi   \n",
       "\n",
       "Turning Red                               Story by      Produced by  \\\n",
       "Turning Red.1  Domee Shi Julia Cho Sarah Streicher  Lindsey Collins   \n",
       "\n",
       "Turning Red                                             Starring  \\\n",
       "Turning Red.1  Rosalie Chiang Sandra Oh Ava Morse Hyein Park ...   \n",
       "\n",
       "Turning Red                      Cinematography  \\\n",
       "Turning Red.1  Mahyar Abousaeedi Jonathan Pytko   \n",
       "\n",
       "Turning Red                        Edited by          Music by  \\\n",
       "Turning Red.1  Nicholas C. Smith Steve Bloom  Ludwig Göransson   \n",
       "\n",
       "Turning Red                             Productioncompanies  \\\n",
       "Turning Red.1  Walt Disney Pictures Pixar Animation Studios   \n",
       "\n",
       "Turning Red                        Distributed by  \\\n",
       "Turning Red.1  Walt Disney StudiosMotion Pictures   \n",
       "\n",
       "Turning Red                                      Release dates  \\\n",
       "Turning Red.1  March 1, 2022El Capitan Theatre) March 11, 2022   \n",
       "\n",
       "Turning Red      Running time        Country Language           Budget  \\\n",
       "Turning Red.1  100 minutes[1]  United States  English  $175 million[2]   \n",
       "\n",
       "Turning Red          Box office  \n",
       "Turning Red.1  $19.9 million[3]  "
      ]
     },
     "execution_count": 372,
     "metadata": {},
     "output_type": "execute_result"
    }
   ],
   "source": [
    "df_movie.set_index(df_movie.columns[0]).transpose()"
   ]
  },
  {
   "cell_type": "markdown",
   "id": "8af4aff5-f842-49f9-a909-c7cf706352d4",
   "metadata": {},
   "source": [
    "The problem here is that we cannot get the names separated with commas or any such information that needs to be punctuated for that matter. "
   ]
  },
  {
   "cell_type": "markdown",
   "id": "e3275acc-a487-403c-a03c-3cd4d2014a7b",
   "metadata": {},
   "source": [
    "## Using Beautiful Soup to extract tables"
   ]
  },
  {
   "cell_type": "code",
   "execution_count": 373,
   "id": "77ff55ea-78f9-4bed-80ab-5b9511215e3a",
   "metadata": {},
   "outputs": [
    {
     "data": {
      "text/plain": [
       "'\\nfor link in data.values():\\n    for items in link:\\n        page = requests.get(items)\\n        page_data = bs(page.content)\\n        \\n        for table in page_data.find_all(\"tr\"):\\n '"
      ]
     },
     "execution_count": 373,
     "metadata": {},
     "output_type": "execute_result"
    }
   ],
   "source": [
    "#Create a loop that can go through each of the movie page and collect the relevant data\n",
    "'''\n",
    "for link in data.values():\n",
    "    for items in link:\n",
    "        page = requests.get(items)\n",
    "        page_data = bs(page.content)\n",
    "        \n",
    "        for table in page_data.find_all(\"tr\"):\n",
    " '''           "
   ]
  },
  {
   "cell_type": "code",
   "execution_count": 455,
   "id": "9fe808e6-a910-4295-a1c9-eadd7d8070fc",
   "metadata": {},
   "outputs": [],
   "source": [
    "page = requests.get(\"https://en.m.wikipedia.org/wiki/Raya_and_the_Last_Dragon\")"
   ]
  },
  {
   "cell_type": "code",
   "execution_count": 456,
   "id": "ae3c23a4-4ab4-42d9-b0f2-1774fc4cbd62",
   "metadata": {},
   "outputs": [],
   "source": [
    "data = bs(page.content)"
   ]
  },
  {
   "cell_type": "code",
   "execution_count": 457,
   "id": "315a2bc5-89c0-48d4-adde-7fb028a62961",
   "metadata": {},
   "outputs": [],
   "source": [
    "def key_finder(word):\n",
    "    final_word = \"\"\n",
    "    init_num = 0 \n",
    "    for prop in keys_list:\n",
    "        count =0\n",
    "\n",
    "        for letter in word:\n",
    "            if letter in prop:\n",
    "                count +=1\n",
    "\n",
    "        if count > init_num:\n",
    "            init_num = count \n",
    "            final_word = prop\n",
    "\n",
    "    return final_word"
   ]
  },
  {
   "cell_type": "code",
   "execution_count": 460,
   "id": "1e59149d-aa50-4833-9ddb-f0ae4427879f",
   "metadata": {},
   "outputs": [],
   "source": [
    "#create empty dictionary with the keys having different properties of a movie\n",
    "dict_details_orig = {'Title':'','Based on':'','Directed by':'','Written by':'','Screenplay by':'','Story by':'','Produced by':'','Starring':'',\\\n",
    "                     'Cinematography':'','Edited by':'','Music by':'', 'Productioncompanies':'',\\\n",
    "                     'Distributed by':'','Narrated by':'','Created by':'','Genre':'', \\\n",
    "                     'Release dates':'','Running time':'','Country':'','Language':'','Budget':'','Box office':''}\n",
    "\n",
    "keys_list = [keys for keys in dict_details_orig.keys()]\n",
    "\n",
    "#find the first table of the movie page\n",
    "table = data.find(\"table\")\n",
    "\n",
    "#initialize a number to\n",
    "num =1\n",
    "init = 0\n",
    "idx = 0\n",
    "\n",
    "#iterate through the table to find th and td tagsf\n",
    "for items in table.find_all([\"th\",\"td\"]): \n",
    "    \n",
    "    #get the name of the movie\n",
    "    if init == 0:\n",
    "        dict_details_orig['Title'] = items.get_text()\n",
    "        init += 1\n",
    "        #print(items.get_text(), num)\n",
    "    else:\n",
    "        \n",
    "        #if the item is even we get the th tag's text as keys of a dictionary\n",
    "        if num % 2 != 0:\n",
    "            \n",
    "            #print(items.get_text(), num)\n",
    "            key = key_finder(items.get_text()[:10])\n",
    "            if key in keys_list:\n",
    "                key = key\n",
    "\n",
    "        #else we get the td tag values\n",
    "        else:\n",
    "            #print(items.get_text(), num)\n",
    "           \n",
    "            value = items.get_text().replace(\"\\n\",\",\")\n",
    "            if value[0] == ',':\n",
    "                value = value[1:] \n",
    "            if num !=2:\n",
    "                dict_details_orig[key] = value\n",
    "            else:\n",
    "                pass\n",
    "            #print(\"key = \"+ key)\n",
    "\n",
    "    #print(dict_details_orig)\n",
    "    num += 1\n",
    "\n",
    "        "
   ]
  },
  {
   "cell_type": "code",
   "execution_count": 461,
   "id": "e595ad1b-187b-46be-83c4-d5432ebc8fdf",
   "metadata": {},
   "outputs": [
    {
     "data": {
      "text/plain": [
       "{'Title': 'Raya and the Last Dragon',\n",
       " 'Directed by': 'Don Hall,Carlos López Estrada',\n",
       " 'Screenplay by': 'Qui Nguyen,Adele Lim',\n",
       " 'Story by': 'Paul Briggs,Don Hall,Adele Lim,Carlos López Estrada,Kiel Murray,Qui Nguyen,John Ripa,Dean Wellins',\n",
       " 'Produced by': 'Osnat Shurer,Peter Del Vecho',\n",
       " 'Starring': 'Kelly Marie Tran,Awkwafina,Izaac Wang,Gemma Chan,Daniel Dae Kim,Benedict Wong,Sandra Oh,Thalia Tran,Lucille Soong,Alan Tudyk',\n",
       " 'Cinematography': '',\n",
       " 'Edited by': 'Fabienne Rawley,Shannon Stein',\n",
       " 'Music by': 'James Newton Howard',\n",
       " 'Productioncompanies': 'Walt Disney Pictures,Walt Disney Animation Studios',\n",
       " 'Distributed by': 'Walt Disney Studios Motion Pictures',\n",
       " 'Narrated by': '',\n",
       " 'Release dates': 'March\\xa05,\\xa02021\\xa0(2021-03-05) (United States)',\n",
       " 'Running time': '107 minutes[1]',\n",
       " 'Country': 'United States',\n",
       " 'Language': 'English',\n",
       " 'Budget': '$100 million+[citation needed]',\n",
       " 'Box office': '$130.4 million[2]'}"
      ]
     },
     "execution_count": 461,
     "metadata": {},
     "output_type": "execute_result"
    }
   ],
   "source": [
    "dict_details_orig"
   ]
  },
  {
   "cell_type": "code",
   "execution_count": 497,
   "id": "4b75f1f4-2635-4c3d-8768-9c94d2e98174",
   "metadata": {},
   "outputs": [
    {
     "data": {
      "text/plain": [
       "{'Title': 'Raya and the Last Dragon',\n",
       " 'Directed by': 'Don Hall,Carlos López Estrada',\n",
       " 'Screenplay by': 'Qui Nguyen,Adele Lim',\n",
       " 'Story by': 'Paul Briggs,Don Hall,Adele Lim,Carlos López Estrada,Kiel Murray,Qui Nguyen,John Ripa,Dean Wellins',\n",
       " 'Produced by': 'Osnat Shurer,Peter Del Vecho',\n",
       " 'Starring': 'Kelly Marie Tran,Awkwafina,Izaac Wang,Gemma Chan,Daniel Dae Kim,Benedict Wong,Sandra Oh,Thalia Tran,Lucille Soong,Alan Tudyk',\n",
       " 'Cinematography': nan,\n",
       " 'Edited by': 'Fabienne Rawley,Shannon Stein',\n",
       " 'Music by': 'James Newton Howard',\n",
       " 'Productioncompanies': 'Walt Disney Pictures,Walt Disney Animation Studios',\n",
       " 'Distributed by': 'Walt Disney Studios Motion Pictures',\n",
       " 'Narrated by': nan,\n",
       " 'Release dates': 'March\\xa05,\\xa02021\\xa0(2021-03-05) (United States)',\n",
       " 'Running time': '107 minutes[1]',\n",
       " 'Country': 'United States',\n",
       " 'Language': 'English',\n",
       " 'Budget': '$100 million+[citation needed]',\n",
       " 'Box office': '$130.4 million[2]'}"
      ]
     },
     "execution_count": 497,
     "metadata": {},
     "output_type": "execute_result"
    }
   ],
   "source": [
    "def add_null_values(dict_of_props):\n",
    "    for det in dict_of_props.items():\n",
    "        if det[1] == '':\n",
    "            dict_of_props[det[0]] = np.NaN\n",
    "\n",
    "    return dict_of_props\n"
   ]
  },
  {
   "cell_type": "code",
   "execution_count": 500,
   "id": "b7b1efa6-faa4-419b-9b3d-eb34fbaf76b8",
   "metadata": {},
   "outputs": [
    {
     "data": {
      "text/plain": [
       "['Raya and the Last Dragon',\n",
       " 'Don Hall,Carlos López Estrada',\n",
       " 'Qui Nguyen,Adele Lim',\n",
       " 'Paul Briggs,Don Hall,Adele Lim,Carlos López Estrada,Kiel Murray,Qui Nguyen,John Ripa,Dean Wellins',\n",
       " 'Osnat Shurer,Peter Del Vecho',\n",
       " 'Kelly Marie Tran,Awkwafina,Izaac Wang,Gemma Chan,Daniel Dae Kim,Benedict Wong,Sandra Oh,Thalia Tran,Lucille Soong,Alan Tudyk',\n",
       " nan,\n",
       " 'Fabienne Rawley,Shannon Stein',\n",
       " 'James Newton Howard',\n",
       " 'Walt Disney Pictures,Walt Disney Animation Studios',\n",
       " 'Walt Disney Studios Motion Pictures',\n",
       " nan,\n",
       " 'March\\xa05,\\xa02021\\xa0(2021-03-05) (United States)',\n",
       " '107 minutes[1]',\n",
       " 'United States',\n",
       " 'English',\n",
       " '$100 million+[citation needed]',\n",
       " '$130.4 million[2]']"
      ]
     },
     "execution_count": 500,
     "metadata": {},
     "output_type": "execute_result"
    }
   ],
   "source": [
    "values_list = []\n",
    "for values in dict_details_orig.values():\n",
    "    values_list.append(values)\n",
    "values_list"
   ]
  },
  {
   "cell_type": "code",
   "execution_count": 521,
   "id": "7325002f-4409-4093-aacb-a856568f8296",
   "metadata": {},
   "outputs": [
    {
     "name": "stderr",
     "output_type": "stream",
     "text": [
      "C:\\Users\\hardi\\AppData\\Local\\Temp\\ipykernel_448\\3691607413.py:6: FutureWarning: The frame.append method is deprecated and will be removed from pandas in a future version. Use pandas.concat instead.\n",
      "  df = df.append(pd.DataFrame([values_list],\n"
     ]
    }
   ],
   "source": [
    "dict_details_orig_columns = ['Title','Directed by','Screenplay by','Story by','Produced by','Starring',\\\n",
    "                     'Cinematography','Edited by','Music by', 'Productioncompanies',\\\n",
    "                     'Distributed by','Narrated by', \\\n",
    "                     'Release dates','Running time','Country','Language','Budget','Box office']\n",
    "df= pd.DataFrame(columns = dict_details_orig_columns)\n",
    "df = df.append(pd.DataFrame([values_list], \n",
    "     columns=dict_details_orig_columns), \n",
    "     ignore_index=True)"
   ]
  },
  {
   "cell_type": "code",
   "execution_count": 522,
   "id": "23d0cab7-f219-4603-ae59-9c98ff91d6fb",
   "metadata": {},
   "outputs": [
    {
     "data": {
      "text/html": [
       "<div>\n",
       "<style scoped>\n",
       "    .dataframe tbody tr th:only-of-type {\n",
       "        vertical-align: middle;\n",
       "    }\n",
       "\n",
       "    .dataframe tbody tr th {\n",
       "        vertical-align: top;\n",
       "    }\n",
       "\n",
       "    .dataframe thead th {\n",
       "        text-align: right;\n",
       "    }\n",
       "</style>\n",
       "<table border=\"1\" class=\"dataframe\">\n",
       "  <thead>\n",
       "    <tr style=\"text-align: right;\">\n",
       "      <th></th>\n",
       "      <th>Title</th>\n",
       "      <th>Directed by</th>\n",
       "      <th>Screenplay by</th>\n",
       "      <th>Story by</th>\n",
       "      <th>Produced by</th>\n",
       "      <th>Starring</th>\n",
       "      <th>Cinematography</th>\n",
       "      <th>Edited by</th>\n",
       "      <th>Music by</th>\n",
       "      <th>Productioncompanies</th>\n",
       "      <th>Distributed by</th>\n",
       "      <th>Narrated by</th>\n",
       "      <th>Release dates</th>\n",
       "      <th>Running time</th>\n",
       "      <th>Country</th>\n",
       "      <th>Language</th>\n",
       "      <th>Budget</th>\n",
       "      <th>Box office</th>\n",
       "    </tr>\n",
       "  </thead>\n",
       "  <tbody>\n",
       "    <tr>\n",
       "      <th>0</th>\n",
       "      <td>Raya and the Last Dragon</td>\n",
       "      <td>Don Hall,Carlos López Estrada</td>\n",
       "      <td>Qui Nguyen,Adele Lim</td>\n",
       "      <td>Paul Briggs,Don Hall,Adele Lim,Carlos López Es...</td>\n",
       "      <td>Osnat Shurer,Peter Del Vecho</td>\n",
       "      <td>Kelly Marie Tran,Awkwafina,Izaac Wang,Gemma Ch...</td>\n",
       "      <td>NaN</td>\n",
       "      <td>Fabienne Rawley,Shannon Stein</td>\n",
       "      <td>James Newton Howard</td>\n",
       "      <td>Walt Disney Pictures,Walt Disney Animation Stu...</td>\n",
       "      <td>Walt Disney Studios Motion Pictures</td>\n",
       "      <td>NaN</td>\n",
       "      <td>March 5, 2021 (2021-03-05) (United States)</td>\n",
       "      <td>107 minutes[1]</td>\n",
       "      <td>United States</td>\n",
       "      <td>English</td>\n",
       "      <td>$100 million+[citation needed]</td>\n",
       "      <td>$130.4 million[2]</td>\n",
       "    </tr>\n",
       "  </tbody>\n",
       "</table>\n",
       "</div>"
      ],
      "text/plain": [
       "                      Title                    Directed by  \\\n",
       "0  Raya and the Last Dragon  Don Hall,Carlos López Estrada   \n",
       "\n",
       "          Screenplay by                                           Story by  \\\n",
       "0  Qui Nguyen,Adele Lim  Paul Briggs,Don Hall,Adele Lim,Carlos López Es...   \n",
       "\n",
       "                    Produced by  \\\n",
       "0  Osnat Shurer,Peter Del Vecho   \n",
       "\n",
       "                                            Starring Cinematography  \\\n",
       "0  Kelly Marie Tran,Awkwafina,Izaac Wang,Gemma Ch...            NaN   \n",
       "\n",
       "                       Edited by             Music by  \\\n",
       "0  Fabienne Rawley,Shannon Stein  James Newton Howard   \n",
       "\n",
       "                                 Productioncompanies  \\\n",
       "0  Walt Disney Pictures,Walt Disney Animation Stu...   \n",
       "\n",
       "                        Distributed by Narrated by  \\\n",
       "0  Walt Disney Studios Motion Pictures         NaN   \n",
       "\n",
       "                                Release dates    Running time        Country  \\\n",
       "0  March 5, 2021 (2021-03-05) (United States)  107 minutes[1]  United States   \n",
       "\n",
       "  Language                          Budget         Box office  \n",
       "0  English  $100 million+[citation needed]  $130.4 million[2]  "
      ]
     },
     "execution_count": 522,
     "metadata": {},
     "output_type": "execute_result"
    }
   ],
   "source": [
    "df\n"
   ]
  },
  {
   "cell_type": "code",
   "execution_count": null,
   "id": "9d39b001-7fd9-488d-a43f-829eeed28d66",
   "metadata": {},
   "outputs": [],
   "source": []
  }
 ],
 "metadata": {
  "kernelspec": {
   "display_name": "Python 3 (ipykernel)",
   "language": "python",
   "name": "python3"
  },
  "language_info": {
   "codemirror_mode": {
    "name": "ipython",
    "version": 3
   },
   "file_extension": ".py",
   "mimetype": "text/x-python",
   "name": "python",
   "nbconvert_exporter": "python",
   "pygments_lexer": "ipython3",
   "version": "3.9.7"
  }
 },
 "nbformat": 4,
 "nbformat_minor": 5
}
