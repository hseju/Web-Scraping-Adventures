{
 "cells": [
  {
   "cell_type": "markdown",
   "id": "fe9d007e-2b79-4c08-871a-367c6cae2fff",
   "metadata": {},
   "source": [
    "## Eventbrite Data Extraction"
   ]
  },
  {
   "cell_type": "code",
   "execution_count": 12,
   "id": "6c78839e-0eef-4809-bfcb-99cd456a6c1a",
   "metadata": {},
   "outputs": [],
   "source": [
    "#First of all will import necessary packages\n",
    "\n",
    "import datetime\n",
    "import pandas as pd\n",
    "import numpy as np\n",
    "\n",
    "from selenium import webdriver\n",
    "from time import sleep\n",
    "import os\n",
    "import requests\n",
    "from bs4 import BeautifulSoup\n",
    "from selenium.webdriver.common.by import By\n",
    "from selenium.webdriver.common.keys import Keys"
   ]
  },
  {
   "cell_type": "code",
   "execution_count": 41,
   "id": "15ced47d-9a5d-4811-b13e-2c093604e397",
   "metadata": {},
   "outputs": [],
   "source": [
    "#now make an instance of webdriver\n",
    "\n",
    "driver = webdriver.Chrome()\n",
    "\n",
    "#open the page\n",
    "driver.get(\"https://www.eventbrite.com/\")\n",
    "sleep(1)\n",
    "\n",
    "#click on seach box\n",
    "driver.find_element(By.CLASS_NAME, \"eds-field-styled__input-container\").click()\n",
    "sleep(2)\n",
    "\n",
    "#enter the search query on events\n",
    "driver.find_element(By.ID, \"search-autocomplete-input\").send_keys(\"festivals\")\n",
    "sleep(1)\n",
    "\n",
    "#enter the location\n",
    "driver.find_element(By.ID, \"location-autocomplete\").send_keys(\"Toronto\")\n",
    "sleep(2)\n",
    "\n",
    "#finding the list of drop down suggestions \n",
    "name = driver.find_elements(By.CSS_SELECTOR, 'li.eds-text-list__item')\n",
    "sleep(2)\n",
    "\n",
    "#select the first place from drop down suggestion box\n",
    "name[0].click()\n",
    "\n",
    "sleep(1)\n",
    "#clicking on arrow button to operate search\n",
    "driver.find_element(By.CLASS_NAME,\"arrow-right-chunky_svg__eds-icon--arrow-right-chunky_base\").click()\n",
    "sleep(1)\n",
    "\n",
    "web_ele_links = driver.find_elements(By.CSS_SELECTOR, 'a.eds-event-card-content__action-link')\n"
   ]
  },
  {
   "cell_type": "code",
   "execution_count": 127,
   "id": "77e85d6b-4191-4a1f-8f96-d758e73a2b0e",
   "metadata": {},
   "outputs": [],
   "source": [
    "#create empty lists of items to be collected\n",
    "\n",
    "dict_ = {'Name':[], 'Start_date':[], 'End_date':[], 'Event_link':[]}\n"
   ]
  },
  {
   "cell_type": "code",
   "execution_count": 44,
   "id": "1220e49a-3b54-415a-8fc9-559af493ff09",
   "metadata": {},
   "outputs": [],
   "source": [
    "\n",
    "for item in range(len(web_ele_links)):\n",
    "    link = item.get_attribute(\"href\")\n",
    "\n",
    "    #get the url and create an instance of Beautiful soup\n",
    "    page = requests.get(link)\n",
    "    soup = BeautifulSoup(page.content, \"html5\")\n",
    "\n",
    "    #soup.find(\"time\", class_=\"listing-hero-date\").text\n",
    "    start_date, end_date = soup.find(\"div\", class_ =\"event-detail__content\").text.strip(\"Date and time\").split(\"–\")\n",
    "\n",
    "    #get the event name\n",
    "    event_name = soup.find(\"h1\", class_=\"listing-hero-title\").text\n",
    "\n",
    "    #find the tag where we have the address\n",
    "    p = soup.find(\"div\", class_=\"event-info__details\").section.next_sibling\n",
    "\n",
    "    #get the address\n",
    "    location = \"\"\n",
    "    for line in p.find_all(\"p\"):\n",
    "        location = location + line.text + \" \"\n",
    "\n",
    "    location.strip(\"View map \")\n",
    "    \n",
    "    \n",
    "    #add all data to the dictionary\n",
    "    dict_['Name'].append(event_name)\n",
    "    dict_['Start_date'].append(start_date)\n",
    "    dict_['End_date'].append(end_date)\n",
    "    dict_['Event_link'].append(link)\n",
    "    \n",
    "    \n"
   ]
  },
  {
   "cell_type": "code",
   "execution_count": 45,
   "id": "1152fbf3-d7fd-4125-8f0d-5d2188d24bbc",
   "metadata": {},
   "outputs": [],
   "source": []
  },
  {
   "cell_type": "code",
   "execution_count": null,
   "id": "d609c6b7-5930-44bb-ad69-130f5f5036c6",
   "metadata": {},
   "outputs": [],
   "source": []
  },
  {
   "cell_type": "code",
   "execution_count": null,
   "id": "8ec8f5c3-3e2a-49e9-9e6b-82932a063baa",
   "metadata": {},
   "outputs": [],
   "source": []
  },
  {
   "cell_type": "code",
   "execution_count": null,
   "id": "88480150-8acf-4145-b27a-b4bd305bf427",
   "metadata": {},
   "outputs": [],
   "source": []
  },
  {
   "cell_type": "code",
   "execution_count": null,
   "id": "7e3a4f60-934a-4816-a0b9-bfde6021b843",
   "metadata": {},
   "outputs": [],
   "source": []
  },
  {
   "cell_type": "code",
   "execution_count": null,
   "id": "092e43bd-2ff4-466d-ade7-b9475d2d737e",
   "metadata": {},
   "outputs": [],
   "source": []
  }
 ],
 "metadata": {
  "kernelspec": {
   "display_name": "Python 3 (ipykernel)",
   "language": "python",
   "name": "python3"
  },
  "language_info": {
   "codemirror_mode": {
    "name": "ipython",
    "version": 3
   },
   "file_extension": ".py",
   "mimetype": "text/x-python",
   "name": "python",
   "nbconvert_exporter": "python",
   "pygments_lexer": "ipython3",
   "version": "3.9.7"
  }
 },
 "nbformat": 4,
 "nbformat_minor": 5
}
