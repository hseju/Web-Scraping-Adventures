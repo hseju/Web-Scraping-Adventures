{
 "cells": [
  {
   "cell_type": "markdown",
   "id": "54655d39-22ba-4a0c-b864-ddae51831eca",
   "metadata": {},
   "source": [
    "# Filters Data Collection"
   ]
  },
  {
   "cell_type": "code",
   "execution_count": 215,
   "id": "3b78964f-dd3e-4ba9-87e6-e5126669046a",
   "metadata": {},
   "outputs": [],
   "source": [
    "#get all the imports\n",
    "\n",
    "import pandas as pd\n",
    "import numpy as np\n",
    "import requests\n",
    "from bs4 import BeautifulSoup\n",
    "\n",
    "#we will use selenium webdriver\n",
    "from selenium import webdriver\n",
    "from time import sleep"
   ]
  },
  {
   "cell_type": "code",
   "execution_count": 216,
   "id": "7e03e6fb-91a4-46f4-bd64-e465ec491c39",
   "metadata": {},
   "outputs": [],
   "source": [
    "#create an empty dataframe\n",
    "df = pd.DataFrame()"
   ]
  },
  {
   "cell_type": "markdown",
   "id": "17186bd3-96b9-4ed9-a80f-7fe99fcc15ae",
   "metadata": {},
   "source": [
    "## Get links of all parts\n",
    "First of all we will get the links of all parts"
   ]
  },
  {
   "cell_type": "code",
   "execution_count": 217,
   "id": "d1a9b268-fbd7-4cb1-85d3-b8bad37be40a",
   "metadata": {},
   "outputs": [],
   "source": [
    "request = requests.get(\"https://filterprofessor.com/collections/all/donaldson\")\n",
    "\n",
    "soup = BeautifulSoup(request.content, \"html5\")\n"
   ]
  },
  {
   "cell_type": "code",
   "execution_count": 218,
   "id": "0316d6c9-86e3-4338-8006-95f4725af3a3",
   "metadata": {},
   "outputs": [],
   "source": [
    "ul = soup.find(\"ul\",class_=\"grid grid--uniform grid--view-items\")"
   ]
  },
  {
   "cell_type": "code",
   "execution_count": 219,
   "id": "cdac135a-3498-49f3-9b04-55ea26738f74",
   "metadata": {},
   "outputs": [],
   "source": [
    "url =\"https://filterprofessor.com\""
   ]
  },
  {
   "cell_type": "code",
   "execution_count": 220,
   "id": "377dc560-3cef-43c2-a46c-44cd3a59f830",
   "metadata": {},
   "outputs": [],
   "source": [
    "list_of_prods = []\n",
    "for link in ul.find_all(\"a\"):\n",
    "    list_of_prods.append(url+link['href'])\n"
   ]
  },
  {
   "cell_type": "code",
   "execution_count": 235,
   "id": "66a22d11-524e-4e08-92fc-370b3e0773d5",
   "metadata": {},
   "outputs": [
    {
     "data": {
      "text/plain": [
       "['https://filterprofessor.com/collections/all/products/1673219-1-donaldson-oem-replacement-dust-collector-filter',\n",
       " 'https://filterprofessor.com/collections/all/products/1921501-torit-oem-replacement-dust-collector-filter',\n",
       " 'https://filterprofessor.com/collections/all/products/1960000-torit-oem-replacement-dust-collector-filter',\n",
       " 'https://filterprofessor.com/collections/all/products/2134700-torit-oem-replacement-dust-collector-filter',\n",
       " 'https://filterprofessor.com/collections/all/products/2226900-torit-oem-replacement-dust-collector-filter',\n",
       " 'https://filterprofessor.com/collections/all/products/2309900-torit-oem-replacement-dust-collector-filter',\n",
       " 'https://filterprofessor.com/collections/all/products/2400900-torit-oem-replacement-dust-collector-filter',\n",
       " 'https://filterprofessor.com/collections/all/products/262-5115-donaldson-torit-oem-replacement-filter',\n",
       " 'https://filterprofessor.com/collections/all/products/262-5947-donaldson-oem-replacement-filter',\n",
       " 'https://filterprofessor.com/collections/all/products/3253700-torit-oem-replacement-dust-collector-filter',\n",
       " 'https://filterprofessor.com/collections/all/products/32582-00-torit-oem-replacement-dust-collector-filter',\n",
       " 'https://filterprofessor.com/collections/all/products/3ea-24740-00-donaldson-torit-oem-replacement-dust-collector-filter',\n",
       " 'https://filterprofessor.com/collections/all/products/3ea-24741-00-donaldson-torit-oem-replacement-dust-collector-filter',\n",
       " 'https://filterprofessor.com/collections/all/products/3ea-24742-00-donaldson-torit-oem-replacement-dust-collector-filter',\n",
       " 'https://filterprofessor.com/collections/all/products/3ea-35877-01-donaldson-torit-oem-replacement-dust-collector-filter',\n",
       " 'https://filterprofessor.com/collections/all/products/3ea-35877-02-donaldson-torit-oem-replacement-dust-collector-filter',\n",
       " 'https://filterprofessor.com/collections/all/products/3ea-35877-03-donaldson-torit-oem-replacement-dust-collector-filter',\n",
       " 'https://filterprofessor.com/collections/all/products/3ea-39652-01-donaldson-torit-oem-replacement-dust-collector-filter',\n",
       " 'https://filterprofessor.com/collections/all/products/4076400-torit-oem-replacement-dust-collector-filter',\n",
       " 'https://filterprofessor.com/collections/all/products/4236000-torit-oem-replacement-dust-collector-filter',\n",
       " 'https://filterprofessor.com/collections/all/products/4236100-torit-oem-replacement-dust-collector-filter',\n",
       " 'https://filterprofessor.com/collections/all/products/4410300-torit-oem-replacement-dust-collector-filter',\n",
       " 'https://filterprofessor.com/collections/all/products/4456200-torit-oem-replacement-dust-collector-filter',\n",
       " 'https://filterprofessor.com/collections/all/products/4596700-torit-oem-replacement-dust-collector-filter',\n",
       " 'https://filterprofessor.com/collections/all/products/4810500-torit-oem-replacement-dust-collector-filter',\n",
       " 'https://filterprofessor.com/collections/all/products/4810700-torit-oem-replacement-dust-collector-filter',\n",
       " 'https://filterprofessor.com/collections/all/products/48506-donaldson-oem-replacement-dust-collector-filter',\n",
       " 'https://filterprofessor.com/collections/all/products/7244901-torit-oem-replacement-dust-collector-filter',\n",
       " 'https://filterprofessor.com/collections/all/products/7245001-torit-oem-replacement-dust-collector-filter',\n",
       " 'https://filterprofessor.com/collections/all/products/7245101-torit-oem-replacement-dust-collector-filter',\n",
       " 'https://filterprofessor.com/collections/all/products/7245601-torit-oem-replacement-dust-collector-filter',\n",
       " 'https://filterprofessor.com/collections/all/products/7245701-torit-oem-replacement-dust-collector-filter']"
      ]
     },
     "execution_count": 235,
     "metadata": {},
     "output_type": "execute_result"
    }
   ],
   "source": [
    "list_of_prods"
   ]
  },
  {
   "cell_type": "markdown",
   "id": "f0455cc7-1ca1-4650-bdad-b57e9336607c",
   "metadata": {
    "tags": []
   },
   "source": [
    "## Iterating through all products to get relevant information"
   ]
  },
  {
   "cell_type": "code",
   "execution_count": null,
   "id": "e171a9e7-88a6-44b2-a91e-0a293bcd1cf4",
   "metadata": {},
   "outputs": [],
   "source": []
  },
  {
   "cell_type": "code",
   "execution_count": 221,
   "id": "6c9afbe8-ffd8-44a2-b0d5-69c011e5fe3d",
   "metadata": {},
   "outputs": [],
   "source": [
    "for product_link in list_of_prods:\n",
    "    request = requests.get(product_link)"
   ]
  },
  {
   "cell_type": "code",
   "execution_count": null,
   "id": "890a9c6f-a1fd-404f-bf3d-3e5ccabe2370",
   "metadata": {},
   "outputs": [],
   "source": [
    "#request = requests.get(\"https://filterprofessor.com/products/1921501-torit-oem-replacement-dust-collector-filter\")\n",
    "\n",
    "dict_prod = {'prod_title':[],'vendor':[],'price':[],'OEM Make':[],'Part Number':[], \n",
    "                 'Dimensions':[],'Outside Diameter':[], 'Length':[],'Inside Diameter':[],'Top':[], \n",
    "                 'Bottom':[],'Shape':[],'Approx. Square Footage of Filter Media':[],'Notes':[]\n",
    "                }\n",
    "\n",
    "for product_link in list_of_prods:\n",
    "    request = requests.get(product_link)\n",
    "    soup_prod = BeautifulSoup(request.content, \"html5\")\n",
    "\n",
    "    #columns\n",
    "    \n",
    "\n",
    "\n",
    "    #Getting the heading title\n",
    "    heading = soup_prod.find(\"div\", class_=\"product-single__meta\")\n",
    "    prod_title = heading.h1.text\n",
    "    dict_prod['prod_title'].append(prod_title)\n",
    "\n",
    "\n",
    "    #getting the vendor\n",
    "    vendor= soup_prod.find(\"div\", class_=\"price__vendor\")\n",
    "    vendor = vendor.dd.text.strip()\n",
    "    dict_prod['vendor'].append(vendor)\n",
    "\n",
    "\n",
    "    #getting the price\n",
    "    price = soup_prod.find(\"div\", class_=\"price__regular\")\n",
    "    price = price.text.strip()[-10:].strip()\n",
    "    dict_prod['price'].append(price)\n",
    "\n",
    "\n",
    "    #getting product description\n",
    "    prod_desc = soup_prod.find(\"div\", class_=\"product-single__description rte\")\n",
    "\n",
    "    \n",
    "    for prop in prod_desc.p.find_all(\"strong\"):\n",
    "        if \"MINIMUM\" in prop.text:\n",
    "            for prop2 in prod_desc.p.next_sibling.next_sibling.find_all(\"strong\"):\n",
    "                try:\n",
    "                    \n",
    "                    #print(prop2.text.strip(\":\") + \"        :          \", prop2.next_sibling.strip(\": \"))\n",
    "                    dict_prod[prop2.text.strip(\":\")].append(prop2.next_sibling.strip(\": \"))\n",
    "\n",
    "                except:\n",
    "                    pass\n",
    "        else:  \n",
    "            try:\n",
    "                dict_prod[prop.text.strip(\":\")].append(prop.next_sibling.strip(\": \"))\n",
    "\n",
    "            except:\n",
    "                pass\n",
    "    \n",
    "\n",
    "#delete the Notes column\n",
    "del dict_prod['Notes']"
   ]
  },
  {
   "cell_type": "code",
   "execution_count": null,
   "id": "f903d62f-a3eb-4a81-975f-2183c7657b63",
   "metadata": {},
   "outputs": [],
   "source": [
    "df = pd.DataFrame(dict_prod)\n",
    "df.head()"
   ]
  },
  {
   "cell_type": "code",
   "execution_count": null,
   "id": "5d3fb6c9-fc63-4027-ac0b-07c96b6e6fe4",
   "metadata": {},
   "outputs": [],
   "source": [
    "df.to_csv(\"\")"
   ]
  }
 ],
 "metadata": {
  "kernelspec": {
   "display_name": "Python 3 (ipykernel)",
   "language": "python",
   "name": "python3"
  },
  "language_info": {
   "codemirror_mode": {
    "name": "ipython",
    "version": 3
   },
   "file_extension": ".py",
   "mimetype": "text/x-python",
   "name": "python",
   "nbconvert_exporter": "python",
   "pygments_lexer": "ipython3",
   "version": "3.9.7"
  }
 },
 "nbformat": 4,
 "nbformat_minor": 5
}
