{
 "cells": [
  {
   "cell_type": "markdown",
   "id": "54655d39-22ba-4a0c-b864-ddae51831eca",
   "metadata": {},
   "source": [
    "# Filters Data Collection"
   ]
  },
  {
   "cell_type": "code",
   "execution_count": 215,
   "id": "3b78964f-dd3e-4ba9-87e6-e5126669046a",
   "metadata": {},
   "outputs": [],
   "source": [
    "#get all the imports\n",
    "\n",
    "import pandas as pd\n",
    "import numpy as np\n",
    "import requests\n",
    "from bs4 import BeautifulSoup\n",
    "\n",
    "#we will use selenium webdriver\n",
    "from selenium import webdriver\n",
    "from time import sleep"
   ]
  },
  {
   "cell_type": "code",
   "execution_count": 216,
   "id": "7e03e6fb-91a4-46f4-bd64-e465ec491c39",
   "metadata": {},
   "outputs": [],
   "source": [
    "#create an empty dataframe\n",
    "df = pd.DataFrame()"
   ]
  },
  {
   "cell_type": "markdown",
   "id": "17186bd3-96b9-4ed9-a80f-7fe99fcc15ae",
   "metadata": {},
   "source": [
    "## Get links of all parts\n",
    "First of all we will get the links of all parts"
   ]
  },
  {
   "cell_type": "code",
   "execution_count": 217,
   "id": "d1a9b268-fbd7-4cb1-85d3-b8bad37be40a",
   "metadata": {},
   "outputs": [],
   "source": [
    "request = requests.get(\"https://filterprofessor.com/collections/all/donaldson\")\n",
    "\n",
    "soup = BeautifulSoup(request.content, \"html5\")\n"
   ]
  },
  {
   "cell_type": "code",
   "execution_count": 218,
   "id": "0316d6c9-86e3-4338-8006-95f4725af3a3",
   "metadata": {},
   "outputs": [],
   "source": [
    "ul = soup.find(\"ul\",class_=\"grid grid--uniform grid--view-items\")"
   ]
  },
  {
   "cell_type": "code",
   "execution_count": 219,
   "id": "cdac135a-3498-49f3-9b04-55ea26738f74",
   "metadata": {},
   "outputs": [],
   "source": [
    "url =\"https://filterprofessor.com\""
   ]
  },
  {
   "cell_type": "code",
   "execution_count": 220,
   "id": "377dc560-3cef-43c2-a46c-44cd3a59f830",
   "metadata": {},
   "outputs": [],
   "source": [
    "list_of_prods = []\n",
    "for link in ul.find_all(\"a\"):\n",
    "    list_of_prods.append(url+link['href'])\n"
   ]
  },
  {
   "cell_type": "code",
   "execution_count": 235,
   "id": "66a22d11-524e-4e08-92fc-370b3e0773d5",
   "metadata": {},
   "outputs": [
    {
     "data": {
      "text/plain": [
       "['https://filterprofessor.com/collections/all/products/1673219-1-donaldson-oem-replacement-dust-collector-filter',\n",
       " 'https://filterprofessor.com/collections/all/products/1921501-torit-oem-replacement-dust-collector-filter',\n",
       " 'https://filterprofessor.com/collections/all/products/1960000-torit-oem-replacement-dust-collector-filter',\n",
       " 'https://filterprofessor.com/collections/all/products/2134700-torit-oem-replacement-dust-collector-filter',\n",
       " 'https://filterprofessor.com/collections/all/products/2226900-torit-oem-replacement-dust-collector-filter',\n",
       " 'https://filterprofessor.com/collections/all/products/2309900-torit-oem-replacement-dust-collector-filter',\n",
       " 'https://filterprofessor.com/collections/all/products/2400900-torit-oem-replacement-dust-collector-filter',\n",
       " 'https://filterprofessor.com/collections/all/products/262-5115-donaldson-torit-oem-replacement-filter',\n",
       " 'https://filterprofessor.com/collections/all/products/262-5947-donaldson-oem-replacement-filter',\n",
       " 'https://filterprofessor.com/collections/all/products/3253700-torit-oem-replacement-dust-collector-filter',\n",
       " 'https://filterprofessor.com/collections/all/products/32582-00-torit-oem-replacement-dust-collector-filter',\n",
       " 'https://filterprofessor.com/collections/all/products/3ea-24740-00-donaldson-torit-oem-replacement-dust-collector-filter',\n",
       " 'https://filterprofessor.com/collections/all/products/3ea-24741-00-donaldson-torit-oem-replacement-dust-collector-filter',\n",
       " 'https://filterprofessor.com/collections/all/products/3ea-24742-00-donaldson-torit-oem-replacement-dust-collector-filter',\n",
       " 'https://filterprofessor.com/collections/all/products/3ea-35877-01-donaldson-torit-oem-replacement-dust-collector-filter',\n",
       " 'https://filterprofessor.com/collections/all/products/3ea-35877-02-donaldson-torit-oem-replacement-dust-collector-filter',\n",
       " 'https://filterprofessor.com/collections/all/products/3ea-35877-03-donaldson-torit-oem-replacement-dust-collector-filter',\n",
       " 'https://filterprofessor.com/collections/all/products/3ea-39652-01-donaldson-torit-oem-replacement-dust-collector-filter',\n",
       " 'https://filterprofessor.com/collections/all/products/4076400-torit-oem-replacement-dust-collector-filter',\n",
       " 'https://filterprofessor.com/collections/all/products/4236000-torit-oem-replacement-dust-collector-filter',\n",
       " 'https://filterprofessor.com/collections/all/products/4236100-torit-oem-replacement-dust-collector-filter',\n",
       " 'https://filterprofessor.com/collections/all/products/4410300-torit-oem-replacement-dust-collector-filter',\n",
       " 'https://filterprofessor.com/collections/all/products/4456200-torit-oem-replacement-dust-collector-filter',\n",
       " 'https://filterprofessor.com/collections/all/products/4596700-torit-oem-replacement-dust-collector-filter',\n",
       " 'https://filterprofessor.com/collections/all/products/4810500-torit-oem-replacement-dust-collector-filter',\n",
       " 'https://filterprofessor.com/collections/all/products/4810700-torit-oem-replacement-dust-collector-filter',\n",
       " 'https://filterprofessor.com/collections/all/products/48506-donaldson-oem-replacement-dust-collector-filter',\n",
       " 'https://filterprofessor.com/collections/all/products/7244901-torit-oem-replacement-dust-collector-filter',\n",
       " 'https://filterprofessor.com/collections/all/products/7245001-torit-oem-replacement-dust-collector-filter',\n",
       " 'https://filterprofessor.com/collections/all/products/7245101-torit-oem-replacement-dust-collector-filter',\n",
       " 'https://filterprofessor.com/collections/all/products/7245601-torit-oem-replacement-dust-collector-filter',\n",
       " 'https://filterprofessor.com/collections/all/products/7245701-torit-oem-replacement-dust-collector-filter']"
      ]
     },
     "execution_count": 235,
     "metadata": {},
     "output_type": "execute_result"
    }
   ],
   "source": [
    "list_of_prods"
   ]
  },
  {
   "cell_type": "markdown",
   "id": "f0455cc7-1ca1-4650-bdad-b57e9336607c",
   "metadata": {
    "tags": []
   },
   "source": [
    "## Iterating through all products to get relevant information"
   ]
  },
  {
   "cell_type": "code",
   "execution_count": null,
   "id": "e171a9e7-88a6-44b2-a91e-0a293bcd1cf4",
   "metadata": {},
   "outputs": [],
   "source": []
  },
  {
   "cell_type": "code",
   "execution_count": 221,
   "id": "6c9afbe8-ffd8-44a2-b0d5-69c011e5fe3d",
   "metadata": {},
   "outputs": [],
   "source": [
    "for product_link in list_of_prods:\n",
    "    request = requests.get(product_link)"
   ]
  },
  {
   "cell_type": "code",
   "execution_count": 254,
   "id": "890a9c6f-a1fd-404f-bf3d-3e5ccabe2370",
   "metadata": {},
   "outputs": [],
   "source": [
    "#request = requests.get(\"https://filterprofessor.com/products/1921501-torit-oem-replacement-dust-collector-filter\")\n",
    "\n",
    "dict_prod = {'prod_title':[],'vendor':[],'price':[],'OEM Make':[],'Part Number':[], \n",
    "                 'Dimensions':[],'Outside Diameter':[], 'Length':[],'Inside Diameter':[],'Top':[], \n",
    "                 'Bottom':[],'Shape':[],'Approx. Square Footage of Filter Media':[],'Notes':[]\n",
    "                }\n",
    "\n",
    "for product_link in list_of_prods:\n",
    "    request = requests.get(product_link)\n",
    "    soup_prod = BeautifulSoup(request.content, \"html5\")\n",
    "\n",
    "    #columns\n",
    "    \n",
    "\n",
    "\n",
    "    #Getting the heading title\n",
    "    heading = soup_prod.find(\"div\", class_=\"product-single__meta\")\n",
    "    prod_title = heading.h1.text\n",
    "    dict_prod['prod_title'].append(prod_title)\n",
    "\n",
    "\n",
    "    #getting the vendor\n",
    "    vendor= soup_prod.find(\"div\", class_=\"price__vendor\")\n",
    "    vendor = vendor.dd.text.strip()\n",
    "    dict_prod['vendor'].append(vendor)\n",
    "\n",
    "\n",
    "    #getting the price\n",
    "    price = soup_prod.find(\"div\", class_=\"price__regular\")\n",
    "    price = price.text.strip()[-10:].strip()\n",
    "    dict_prod['price'].append(price)\n",
    "\n",
    "\n",
    "    #getting product description\n",
    "    prod_desc = soup_prod.find(\"div\", class_=\"product-single__description rte\")\n",
    "\n",
    "\n",
    "    for prop in prod_desc.p.find_all(\"strong\"):\n",
    "        try:\n",
    "            if prop.next_sibling.strip(\": \") is not None:\n",
    "                dict_prod[prop.text.strip(\":\")].append(prop.next_sibling.strip(\": \"))\n",
    "        except:\n",
    "            pass"
   ]
  },
  {
   "cell_type": "code",
   "execution_count": 256,
   "id": "13cfbaeb-d6dd-4430-b270-dc4699939775",
   "metadata": {},
   "outputs": [
    {
     "ename": "ValueError",
     "evalue": "All arrays must be of the same length",
     "output_type": "error",
     "traceback": [
      "\u001b[1;31m---------------------------------------------------------------------------\u001b[0m",
      "\u001b[1;31mValueError\u001b[0m                                Traceback (most recent call last)",
      "Input \u001b[1;32mIn [256]\u001b[0m, in \u001b[0;36m<cell line: 1>\u001b[1;34m()\u001b[0m\n\u001b[1;32m----> 1\u001b[0m df \u001b[38;5;241m=\u001b[39m \u001b[43mpd\u001b[49m\u001b[38;5;241;43m.\u001b[39;49m\u001b[43mDataFrame\u001b[49m\u001b[43m(\u001b[49m\u001b[43mdict_prod\u001b[49m\u001b[43m)\u001b[49m\n",
      "File \u001b[1;32m~\\anaconda3\\lib\\site-packages\\pandas\\core\\frame.py:636\u001b[0m, in \u001b[0;36mDataFrame.__init__\u001b[1;34m(self, data, index, columns, dtype, copy)\u001b[0m\n\u001b[0;32m    630\u001b[0m     mgr \u001b[38;5;241m=\u001b[39m \u001b[38;5;28mself\u001b[39m\u001b[38;5;241m.\u001b[39m_init_mgr(\n\u001b[0;32m    631\u001b[0m         data, axes\u001b[38;5;241m=\u001b[39m{\u001b[38;5;124m\"\u001b[39m\u001b[38;5;124mindex\u001b[39m\u001b[38;5;124m\"\u001b[39m: index, \u001b[38;5;124m\"\u001b[39m\u001b[38;5;124mcolumns\u001b[39m\u001b[38;5;124m\"\u001b[39m: columns}, dtype\u001b[38;5;241m=\u001b[39mdtype, copy\u001b[38;5;241m=\u001b[39mcopy\n\u001b[0;32m    632\u001b[0m     )\n\u001b[0;32m    634\u001b[0m \u001b[38;5;28;01melif\u001b[39;00m \u001b[38;5;28misinstance\u001b[39m(data, \u001b[38;5;28mdict\u001b[39m):\n\u001b[0;32m    635\u001b[0m     \u001b[38;5;66;03m# GH#38939 de facto copy defaults to False only in non-dict cases\u001b[39;00m\n\u001b[1;32m--> 636\u001b[0m     mgr \u001b[38;5;241m=\u001b[39m \u001b[43mdict_to_mgr\u001b[49m\u001b[43m(\u001b[49m\u001b[43mdata\u001b[49m\u001b[43m,\u001b[49m\u001b[43m \u001b[49m\u001b[43mindex\u001b[49m\u001b[43m,\u001b[49m\u001b[43m \u001b[49m\u001b[43mcolumns\u001b[49m\u001b[43m,\u001b[49m\u001b[43m \u001b[49m\u001b[43mdtype\u001b[49m\u001b[38;5;241;43m=\u001b[39;49m\u001b[43mdtype\u001b[49m\u001b[43m,\u001b[49m\u001b[43m \u001b[49m\u001b[43mcopy\u001b[49m\u001b[38;5;241;43m=\u001b[39;49m\u001b[43mcopy\u001b[49m\u001b[43m,\u001b[49m\u001b[43m \u001b[49m\u001b[43mtyp\u001b[49m\u001b[38;5;241;43m=\u001b[39;49m\u001b[43mmanager\u001b[49m\u001b[43m)\u001b[49m\n\u001b[0;32m    637\u001b[0m \u001b[38;5;28;01melif\u001b[39;00m \u001b[38;5;28misinstance\u001b[39m(data, ma\u001b[38;5;241m.\u001b[39mMaskedArray):\n\u001b[0;32m    638\u001b[0m     \u001b[38;5;28;01mimport\u001b[39;00m \u001b[38;5;21;01mnumpy\u001b[39;00m\u001b[38;5;21;01m.\u001b[39;00m\u001b[38;5;21;01mma\u001b[39;00m\u001b[38;5;21;01m.\u001b[39;00m\u001b[38;5;21;01mmrecords\u001b[39;00m \u001b[38;5;28;01mas\u001b[39;00m \u001b[38;5;21;01mmrecords\u001b[39;00m\n",
      "File \u001b[1;32m~\\anaconda3\\lib\\site-packages\\pandas\\core\\internals\\construction.py:502\u001b[0m, in \u001b[0;36mdict_to_mgr\u001b[1;34m(data, index, columns, dtype, typ, copy)\u001b[0m\n\u001b[0;32m    494\u001b[0m     arrays \u001b[38;5;241m=\u001b[39m [\n\u001b[0;32m    495\u001b[0m         x\n\u001b[0;32m    496\u001b[0m         \u001b[38;5;28;01mif\u001b[39;00m \u001b[38;5;129;01mnot\u001b[39;00m \u001b[38;5;28mhasattr\u001b[39m(x, \u001b[38;5;124m\"\u001b[39m\u001b[38;5;124mdtype\u001b[39m\u001b[38;5;124m\"\u001b[39m) \u001b[38;5;129;01mor\u001b[39;00m \u001b[38;5;129;01mnot\u001b[39;00m \u001b[38;5;28misinstance\u001b[39m(x\u001b[38;5;241m.\u001b[39mdtype, ExtensionDtype)\n\u001b[0;32m    497\u001b[0m         \u001b[38;5;28;01melse\u001b[39;00m x\u001b[38;5;241m.\u001b[39mcopy()\n\u001b[0;32m    498\u001b[0m         \u001b[38;5;28;01mfor\u001b[39;00m x \u001b[38;5;129;01min\u001b[39;00m arrays\n\u001b[0;32m    499\u001b[0m     ]\n\u001b[0;32m    500\u001b[0m     \u001b[38;5;66;03m# TODO: can we get rid of the dt64tz special case above?\u001b[39;00m\n\u001b[1;32m--> 502\u001b[0m \u001b[38;5;28;01mreturn\u001b[39;00m \u001b[43marrays_to_mgr\u001b[49m\u001b[43m(\u001b[49m\u001b[43marrays\u001b[49m\u001b[43m,\u001b[49m\u001b[43m \u001b[49m\u001b[43mcolumns\u001b[49m\u001b[43m,\u001b[49m\u001b[43m \u001b[49m\u001b[43mindex\u001b[49m\u001b[43m,\u001b[49m\u001b[43m \u001b[49m\u001b[43mdtype\u001b[49m\u001b[38;5;241;43m=\u001b[39;49m\u001b[43mdtype\u001b[49m\u001b[43m,\u001b[49m\u001b[43m \u001b[49m\u001b[43mtyp\u001b[49m\u001b[38;5;241;43m=\u001b[39;49m\u001b[43mtyp\u001b[49m\u001b[43m,\u001b[49m\u001b[43m \u001b[49m\u001b[43mconsolidate\u001b[49m\u001b[38;5;241;43m=\u001b[39;49m\u001b[43mcopy\u001b[49m\u001b[43m)\u001b[49m\n",
      "File \u001b[1;32m~\\anaconda3\\lib\\site-packages\\pandas\\core\\internals\\construction.py:120\u001b[0m, in \u001b[0;36marrays_to_mgr\u001b[1;34m(arrays, columns, index, dtype, verify_integrity, typ, consolidate)\u001b[0m\n\u001b[0;32m    117\u001b[0m \u001b[38;5;28;01mif\u001b[39;00m verify_integrity:\n\u001b[0;32m    118\u001b[0m     \u001b[38;5;66;03m# figure out the index, if necessary\u001b[39;00m\n\u001b[0;32m    119\u001b[0m     \u001b[38;5;28;01mif\u001b[39;00m index \u001b[38;5;129;01mis\u001b[39;00m \u001b[38;5;28;01mNone\u001b[39;00m:\n\u001b[1;32m--> 120\u001b[0m         index \u001b[38;5;241m=\u001b[39m \u001b[43m_extract_index\u001b[49m\u001b[43m(\u001b[49m\u001b[43marrays\u001b[49m\u001b[43m)\u001b[49m\n\u001b[0;32m    121\u001b[0m     \u001b[38;5;28;01melse\u001b[39;00m:\n\u001b[0;32m    122\u001b[0m         index \u001b[38;5;241m=\u001b[39m ensure_index(index)\n",
      "File \u001b[1;32m~\\anaconda3\\lib\\site-packages\\pandas\\core\\internals\\construction.py:674\u001b[0m, in \u001b[0;36m_extract_index\u001b[1;34m(data)\u001b[0m\n\u001b[0;32m    672\u001b[0m lengths \u001b[38;5;241m=\u001b[39m \u001b[38;5;28mlist\u001b[39m(\u001b[38;5;28mset\u001b[39m(raw_lengths))\n\u001b[0;32m    673\u001b[0m \u001b[38;5;28;01mif\u001b[39;00m \u001b[38;5;28mlen\u001b[39m(lengths) \u001b[38;5;241m>\u001b[39m \u001b[38;5;241m1\u001b[39m:\n\u001b[1;32m--> 674\u001b[0m     \u001b[38;5;28;01mraise\u001b[39;00m \u001b[38;5;167;01mValueError\u001b[39;00m(\u001b[38;5;124m\"\u001b[39m\u001b[38;5;124mAll arrays must be of the same length\u001b[39m\u001b[38;5;124m\"\u001b[39m)\n\u001b[0;32m    676\u001b[0m \u001b[38;5;28;01mif\u001b[39;00m have_dicts:\n\u001b[0;32m    677\u001b[0m     \u001b[38;5;28;01mraise\u001b[39;00m \u001b[38;5;167;01mValueError\u001b[39;00m(\n\u001b[0;32m    678\u001b[0m         \u001b[38;5;124m\"\u001b[39m\u001b[38;5;124mMixing dicts with non-Series may lead to ambiguous ordering.\u001b[39m\u001b[38;5;124m\"\u001b[39m\n\u001b[0;32m    679\u001b[0m     )\n",
      "\u001b[1;31mValueError\u001b[0m: All arrays must be of the same length"
     ]
    }
   ],
   "source": [
    "\n",
    "df = pd.DataFrame(dict_prod)"
   ]
  },
  {
   "cell_type": "code",
   "execution_count": 247,
   "id": "bd00380f-8196-42f1-9920-b3958fc4b9d7",
   "metadata": {},
   "outputs": [
    {
     "data": {
      "text/html": [
       "<div>\n",
       "<style scoped>\n",
       "    .dataframe tbody tr th:only-of-type {\n",
       "        vertical-align: middle;\n",
       "    }\n",
       "\n",
       "    .dataframe tbody tr th {\n",
       "        vertical-align: top;\n",
       "    }\n",
       "\n",
       "    .dataframe thead th {\n",
       "        text-align: right;\n",
       "    }\n",
       "</style>\n",
       "<table border=\"1\" class=\"dataframe\">\n",
       "  <thead>\n",
       "    <tr style=\"text-align: right;\">\n",
       "      <th></th>\n",
       "      <th>prod_title</th>\n",
       "      <th>vendor</th>\n",
       "      <th>price</th>\n",
       "      <th>OEM Make</th>\n",
       "      <th>Part Number</th>\n",
       "      <th>Dimensions</th>\n",
       "      <th>Outside Diameter</th>\n",
       "      <th>Length</th>\n",
       "      <th>Inside Diameter</th>\n",
       "      <th>Top</th>\n",
       "      <th>Bottom</th>\n",
       "      <th>Shape</th>\n",
       "      <th>Approx. Square Footage of Filter Media</th>\n",
       "      <th>Notes</th>\n",
       "    </tr>\n",
       "  </thead>\n",
       "  <tbody>\n",
       "    <tr>\n",
       "      <th>0</th>\n",
       "      <td>[1673219-1 - Donaldson - OEM Replacement Filte...</td>\n",
       "      <td>[Donaldson Torit, Torit, Torit, Torit, Torit, ...</td>\n",
       "      <td>[$92.00, $75.00, $75.00, $90.00, $75.00, $75.0...</td>\n",
       "      <td>[Donaldson, Torit, Torit, Torit, Torit, Torit,...</td>\n",
       "      <td>[1673219-1, 1921501, 1960000, 2134700, 2226900...</td>\n",
       "      <td>[9.48 x 13.84 x 28, 8.38 x 12.74 x 26, 8.38 x ...</td>\n",
       "      <td>[13.84\", 12.74\", 12.74\", 12.74\", 12.74\", 12.74...</td>\n",
       "      <td>[28\", 26\", 26.00\", 26.00\", 26.00\", 26.00\", 26....</td>\n",
       "      <td>[9.48\", 8.38\", 8.38\", 8.38\", 8.38\", 8.38\", 8.3...</td>\n",
       "      <td>[Open, Open , Open, Open, Open, Open, Open, Op...</td>\n",
       "      <td>[Open, Closed with a 0.53\" bolt hole, Closed w...</td>\n",
       "      <td>[Round with 1 band, Round, Round, Round, Round...</td>\n",
       "      <td>[136, 220, 224, 224, 224, 224, 220, 180, 254, ...</td>\n",
       "      <td>[ Select the filter media you want from the dr...</td>\n",
       "    </tr>\n",
       "  </tbody>\n",
       "</table>\n",
       "</div>"
      ],
      "text/plain": [
       "                                          prod_title  \\\n",
       "0  [1673219-1 - Donaldson - OEM Replacement Filte...   \n",
       "\n",
       "                                              vendor  \\\n",
       "0  [Donaldson Torit, Torit, Torit, Torit, Torit, ...   \n",
       "\n",
       "                                               price  \\\n",
       "0  [$92.00, $75.00, $75.00, $90.00, $75.00, $75.0...   \n",
       "\n",
       "                                            OEM Make  \\\n",
       "0  [Donaldson, Torit, Torit, Torit, Torit, Torit,...   \n",
       "\n",
       "                                         Part Number  \\\n",
       "0  [1673219-1, 1921501, 1960000, 2134700, 2226900...   \n",
       "\n",
       "                                          Dimensions  \\\n",
       "0  [9.48 x 13.84 x 28, 8.38 x 12.74 x 26, 8.38 x ...   \n",
       "\n",
       "                                    Outside Diameter  \\\n",
       "0  [13.84\", 12.74\", 12.74\", 12.74\", 12.74\", 12.74...   \n",
       "\n",
       "                                              Length  \\\n",
       "0  [28\", 26\", 26.00\", 26.00\", 26.00\", 26.00\", 26....   \n",
       "\n",
       "                                     Inside Diameter  \\\n",
       "0  [9.48\", 8.38\", 8.38\", 8.38\", 8.38\", 8.38\", 8.3...   \n",
       "\n",
       "                                                 Top  \\\n",
       "0  [Open, Open , Open, Open, Open, Open, Open, Op...   \n",
       "\n",
       "                                              Bottom  \\\n",
       "0  [Open, Closed with a 0.53\" bolt hole, Closed w...   \n",
       "\n",
       "                                               Shape  \\\n",
       "0  [Round with 1 band, Round, Round, Round, Round...   \n",
       "\n",
       "              Approx. Square Footage of Filter Media  \\\n",
       "0  [136, 220, 224, 224, 224, 224, 220, 180, 254, ...   \n",
       "\n",
       "                                               Notes  \n",
       "0  [ Select the filter media you want from the dr...  "
      ]
     },
     "execution_count": 247,
     "metadata": {},
     "output_type": "execute_result"
    }
   ],
   "source": []
  },
  {
   "cell_type": "code",
   "execution_count": 261,
   "id": "d57c6bf2-737d-487d-9a56-baa71dc913be",
   "metadata": {},
   "outputs": [
    {
     "data": {
      "text/plain": [
       "32"
      ]
     },
     "execution_count": 261,
     "metadata": {},
     "output_type": "execute_result"
    }
   ],
   "source": [
    "len(dict_prod['vendor'])"
   ]
  },
  {
   "cell_type": "code",
   "execution_count": 259,
   "id": "1c65bfbf-913e-46a8-8cf9-7c6530501bb0",
   "metadata": {},
   "outputs": [
    {
     "data": {
      "text/plain": [
       "['Donaldson',\n",
       " 'Torit',\n",
       " 'Torit',\n",
       " 'Torit',\n",
       " 'Torit',\n",
       " 'Torit',\n",
       " 'Torit',\n",
       " 'Donaldson Torit',\n",
       " 'Donaldson',\n",
       " 'Torit',\n",
       " 'Torit',\n",
       " 'Donaldson Torit',\n",
       " 'Donaldson Torit',\n",
       " 'Donaldson Torit',\n",
       " 'Donaldson Torit',\n",
       " 'Donaldson Torit',\n",
       " 'Torit',\n",
       " 'Torit',\n",
       " 'Torit',\n",
       " 'Torit',\n",
       " 'Torit',\n",
       " 'Torit',\n",
       " 'Torit',\n",
       " 'Torit',\n",
       " 'Donaldson',\n",
       " 'Torit',\n",
       " 'Torit',\n",
       " 'Torit',\n",
       " 'Torit',\n",
       " 'Torit']"
      ]
     },
     "execution_count": 259,
     "metadata": {},
     "output_type": "execute_result"
    }
   ],
   "source": [
    "dict_prod['OEM Make']"
   ]
  },
  {
   "cell_type": "code",
   "execution_count": null,
   "id": "f0bdad0b-875a-4785-9465-61bae60cc0f6",
   "metadata": {},
   "outputs": [],
   "source": [
    "\n"
   ]
  },
  {
   "cell_type": "code",
   "execution_count": 227,
   "id": "c6f6961b-b000-451f-b050-772ad1fa3281",
   "metadata": {},
   "outputs": [],
   "source": [
    "\n",
    "    \n",
    "    \n"
   ]
  },
  {
   "cell_type": "code",
   "execution_count": 228,
   "id": "c28b1af4-6065-44d4-a674-a9358b5d3e91",
   "metadata": {},
   "outputs": [],
   "source": []
  },
  {
   "cell_type": "code",
   "execution_count": 230,
   "id": "4d304fa0-0508-4dd3-ab8a-7e3d91508498",
   "metadata": {},
   "outputs": [
    {
     "data": {
      "text/html": [
       "<div>\n",
       "<style scoped>\n",
       "    .dataframe tbody tr th:only-of-type {\n",
       "        vertical-align: middle;\n",
       "    }\n",
       "\n",
       "    .dataframe tbody tr th {\n",
       "        vertical-align: top;\n",
       "    }\n",
       "\n",
       "    .dataframe thead th {\n",
       "        text-align: right;\n",
       "    }\n",
       "</style>\n",
       "<table border=\"1\" class=\"dataframe\">\n",
       "  <thead>\n",
       "    <tr style=\"text-align: right;\">\n",
       "      <th></th>\n",
       "      <th>prod_title</th>\n",
       "      <th>vendor</th>\n",
       "      <th>price</th>\n",
       "      <th>OEM Make</th>\n",
       "      <th>Part Number</th>\n",
       "      <th>Dimensions</th>\n",
       "      <th>Outside Diameter</th>\n",
       "      <th>Length</th>\n",
       "      <th>Inside Diameter</th>\n",
       "      <th>Top</th>\n",
       "      <th>Bottom</th>\n",
       "      <th>Shape</th>\n",
       "      <th>Approx. Square Footage of Filter Media</th>\n",
       "      <th>Notes</th>\n",
       "    </tr>\n",
       "  </thead>\n",
       "  <tbody>\n",
       "    <tr>\n",
       "      <th>0</th>\n",
       "      <td>1673219-1 - Donaldson - OEM Replacement Filter</td>\n",
       "      <td>Donaldson Torit</td>\n",
       "      <td>$92.00</td>\n",
       "      <td>Donaldson</td>\n",
       "      <td>1673219-1</td>\n",
       "      <td>9.48 x 13.84 x 28</td>\n",
       "      <td>13.84\"</td>\n",
       "      <td>28\"</td>\n",
       "      <td>9.48\"</td>\n",
       "      <td>Open</td>\n",
       "      <td>Open</td>\n",
       "      <td>Round with 1 band</td>\n",
       "      <td>136</td>\n",
       "      <td>Select the filter media you want from the drop...</td>\n",
       "    </tr>\n",
       "  </tbody>\n",
       "</table>\n",
       "</div>"
      ],
      "text/plain": [
       "                                       prod_title           vendor   price  \\\n",
       "0  1673219-1 - Donaldson - OEM Replacement Filter  Donaldson Torit  $92.00   \n",
       "\n",
       "    OEM Make Part Number         Dimensions Outside Diameter Length  \\\n",
       "0  Donaldson   1673219-1  9.48 x 13.84 x 28           13.84\"    28\"   \n",
       "\n",
       "  Inside Diameter   Top Bottom              Shape  \\\n",
       "0           9.48\"  Open   Open  Round with 1 band   \n",
       "\n",
       "  Approx. Square Footage of Filter Media  \\\n",
       "0                                    136   \n",
       "\n",
       "                                               Notes  \n",
       "0  Select the filter media you want from the drop...  "
      ]
     },
     "execution_count": 230,
     "metadata": {},
     "output_type": "execute_result"
    }
   ],
   "source": [
    "df"
   ]
  },
  {
   "cell_type": "code",
   "execution_count": null,
   "id": "5d3fb6c9-fc63-4027-ac0b-07c96b6e6fe4",
   "metadata": {},
   "outputs": [],
   "source": []
  }
 ],
 "metadata": {
  "kernelspec": {
   "display_name": "Python 3 (ipykernel)",
   "language": "python",
   "name": "python3"
  },
  "language_info": {
   "codemirror_mode": {
    "name": "ipython",
    "version": 3
   },
   "file_extension": ".py",
   "mimetype": "text/x-python",
   "name": "python",
   "nbconvert_exporter": "python",
   "pygments_lexer": "ipython3",
   "version": "3.9.7"
  }
 },
 "nbformat": 4,
 "nbformat_minor": 5
}
